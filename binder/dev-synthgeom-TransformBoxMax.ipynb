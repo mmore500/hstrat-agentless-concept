{
 "cells": [
  {
   "cell_type": "code",
   "execution_count": null,
   "metadata": {},
   "outputs": [],
   "source": [
    "%load_ext watermark\n"
   ]
  },
  {
   "cell_type": "code",
   "execution_count": null,
   "metadata": {},
   "outputs": [],
   "source": [
    "from colorclade import draw_colorclade_tree\n",
    "from matplotlib import pyplot as plt\n",
    "import numpy as np\n",
    "from tqdm import tqdm\n",
    "\n",
    "from pylib._build_hstrat_surfaces import build_hstrat_surfaces\n",
    "from pylib._build_path import build_path\n",
    "from pylib._make_seed_coordinates import make_seed_coordinates\n",
    "from pylib._pathsplot import pathsplot\n",
    "from pylib.auxlib._hstrat_reconstruct_dataframe import (\n",
    "    hstrat_reconstruct_dataframe,\n",
    ")\n",
    "from pylib.auxlib._log_context_duration import log_context_duration\n",
    "from pylib.auxlib._make_hstrat_surface_dataframe import (\n",
    "    make_hstrat_surface_dataframe,\n",
    ")\n",
    "from pylib.auxlib._make_reproducible import make_reproducible\n",
    "from pylib.auxlib._shift_no_wrap import shift_no_wrap\n",
    "from pylib.auxlib._transform_box_max import TransformBoxMax\n",
    "from pylib.synthgeom._AttributeBoxMax import AttributeBoxMax\n",
    "from pylib.synthgeom._VideoWriter import VideoWriter\n",
    "from pylib.synthgeom._generate_observations import generate_observations\n",
    "\n",
    "make_reproducible()\n"
   ]
  },
  {
   "cell_type": "code",
   "execution_count": null,
   "metadata": {},
   "outputs": [],
   "source": [
    "%watermark -diwmuv -iv\n"
   ]
  },
  {
   "cell_type": "code",
   "execution_count": null,
   "metadata": {},
   "outputs": [],
   "source": [
    "SX, SY = 400, 400\n",
    "crea_func = np.ones\n",
    "crea_size = 10\n",
    "num_frames = 1000\n",
    "dstream_algo = \"dstream.tilted_algo\"\n",
    "dstream_S = 64\n",
    "\n",
    "\n",
    "def mirror_backtrack_transform(arr, i):\n",
    "    return shift_no_wrap(arr, (min(i, SX // 4), -min(i, SY // 4)), axis=(0, 1))\n"
   ]
  },
  {
   "cell_type": "code",
   "execution_count": null,
   "metadata": {},
   "outputs": [],
   "source": [
    "def show_sample_observations(\n",
    "    SX,\n",
    "    SY,\n",
    "    *,\n",
    "    crea_func,\n",
    "    crea_size=crea_size,\n",
    "    every_nth=5,\n",
    "    fps=30.0,\n",
    "    logger=print,\n",
    "    mirror_backtrack=False,\n",
    "    mirror_backtrack_transform=mirror_backtrack_transform,\n",
    "    num_frames=1000,\n",
    "):\n",
    "\n",
    "    observations = generate_observations(\n",
    "        SX=SX,\n",
    "        SY=SY,\n",
    "        crea_func=crea_func,\n",
    "        crea_size=crea_size,\n",
    "        mirror_backtrack=mirror_backtrack,\n",
    "        mirror_backtrack_transform=mirror_backtrack_transform,\n",
    "        num_frames=num_frames,\n",
    "    )\n",
    "    with log_context_duration(\"Creating video\", logger=logger):\n",
    "        with VideoWriter(\"out.gif\", fps) as vid:\n",
    "            vid.add_observations(observations, every_nth=every_nth)\n",
    "            vid.show()\n",
    "\n",
    "    with log_context_duration(\"Creating reversed video\", logger=logger):\n",
    "        with VideoWriter(\"out.gif\", fps) as vid:\n",
    "            vid.add_observations(\n",
    "                observations, every_nth=every_nth, reorder=reversed\n",
    "            )\n",
    "            vid.show()\n",
    "\n",
    "    return observations\n"
   ]
  },
  {
   "cell_type": "code",
   "execution_count": null,
   "metadata": {},
   "outputs": [],
   "source": [
    "def show_sample_hstrat_tree(\n",
    "    obvs,\n",
    "    SX,\n",
    "    SY,\n",
    "    *,\n",
    "    dstream_algo,\n",
    "    dstream_S,\n",
    "    num_frames,\n",
    "):\n",
    "    surfaces = build_hstrat_surfaces(\n",
    "        obvs,\n",
    "        (SY, SX),\n",
    "        TransformBoxMax(10),\n",
    "        dstream_algo=dstream_algo,\n",
    "        dstream_S=dstream_S,\n",
    "    )\n",
    "    surfaces_df = make_hstrat_surface_dataframe(\n",
    "        surfaces[-1],\n",
    "        num_frames + dstream_S,\n",
    "        values=obvs[-1],\n",
    "        dstream_algo=dstream_algo,\n",
    "    )\n",
    "    surfaces_phylo = hstrat_reconstruct_dataframe(\n",
    "        surfaces_df[surfaces_df[\"value\"] > 0.2],\n",
    "    )\n",
    "    surfaces_phylo[\"ancestor_list\"] = [\n",
    "        \"[]\" if id_ == ancestor_id else f\"[{ancestor_id}]\"\n",
    "        for (id_, ancestor_id) in zip(\n",
    "            surfaces_phylo[\"id\"],\n",
    "            surfaces_phylo[\"ancestor_id\"],\n",
    "        )\n",
    "    ]\n",
    "    draw_colorclade_tree(\n",
    "        surfaces_phylo,\n",
    "        taxon_name_key=\"id\",\n",
    "        backend=\"biopython\",\n",
    "    )\n",
    "    plt.show()\n"
   ]
  },
  {
   "cell_type": "code",
   "execution_count": null,
   "metadata": {},
   "outputs": [],
   "source": [
    "seed_coordinates = make_seed_coordinates(\n",
    "    x_coords=range(SX // 8, SX, SX // 4),\n",
    "    y_coords=range(SY // 8, SY, SY // 4),\n",
    ")\n"
   ]
  },
  {
   "cell_type": "markdown",
   "metadata": {},
   "source": [
    "## `crea_func=np.ones` `mirror_backtrack=False`\n"
   ]
  },
  {
   "cell_type": "code",
   "execution_count": null,
   "metadata": {},
   "outputs": [],
   "source": [
    "obvs = show_sample_observations(\n",
    "    SX,\n",
    "    SY,\n",
    "    crea_func=np.ones,\n",
    "    mirror_backtrack=False,\n",
    "    num_frames=num_frames,\n",
    ")\n",
    "observations = pathsplot(\n",
    "    [\n",
    "        build_path(coordinate, obvs, AttributeBoxMax(20))\n",
    "        for coordinate in tqdm(seed_coordinates)\n",
    "    ],\n",
    "    xmax=SX,\n",
    "    ymax=SY,\n",
    "    col_wrap=4,\n",
    ")\n",
    "plt.show()\n",
    "\n",
    "show_sample_hstrat_tree(\n",
    "    obvs,\n",
    "    SX,\n",
    "    SY,\n",
    "    dstream_algo=dstream_algo,\n",
    "    dstream_S=dstream_S,\n",
    "    num_frames=num_frames,\n",
    ")\n"
   ]
  },
  {
   "cell_type": "markdown",
   "metadata": {},
   "source": [
    "## `crea_func=np.ones` `mirror_backtrack=True`\n"
   ]
  },
  {
   "cell_type": "code",
   "execution_count": null,
   "metadata": {},
   "outputs": [],
   "source": [
    "obvs = show_sample_observations(\n",
    "    SX,\n",
    "    SY,\n",
    "    crea_func=np.ones,\n",
    "    mirror_backtrack=True,\n",
    "    mirror_backtrack_transform=mirror_backtrack_transform,\n",
    "    num_frames=num_frames,\n",
    ")\n",
    "observations = pathsplot(\n",
    "    [\n",
    "        build_path(coordinate, obvs, AttributeBoxMax(20))\n",
    "        for coordinate in tqdm(seed_coordinates)\n",
    "    ],\n",
    "    xmax=SX,\n",
    "    ymax=SY,\n",
    "    col_wrap=4,\n",
    ")\n",
    "plt.show()\n",
    "\n",
    "show_sample_hstrat_tree(\n",
    "    obvs,\n",
    "    SX,\n",
    "    SY,\n",
    "    dstream_algo=dstream_algo,\n",
    "    dstream_S=dstream_S,\n",
    "    num_frames=num_frames,\n",
    ")\n"
   ]
  },
  {
   "cell_type": "markdown",
   "metadata": {},
   "source": [
    "## `crea_func=np.random.rand` `mirror_backtrack=False`\n"
   ]
  },
  {
   "cell_type": "code",
   "execution_count": null,
   "metadata": {},
   "outputs": [],
   "source": [
    "for i in range(2):\n",
    "    obvs = show_sample_observations(\n",
    "        SX,\n",
    "        SY,\n",
    "        crea_func=lambda x: np.random.rand(*x),\n",
    "        mirror_backtrack=False,\n",
    "        num_frames=num_frames,\n",
    "    )\n",
    "    observations = pathsplot(\n",
    "        [\n",
    "            build_path(coordinate, obvs, AttributeBoxMax(20))\n",
    "            for coordinate in tqdm(seed_coordinates)\n",
    "        ],\n",
    "        xmax=SX,\n",
    "        ymax=SY,\n",
    "        col_wrap=4,\n",
    "    )\n",
    "    plt.show()\n",
    "\n",
    "show_sample_hstrat_tree(\n",
    "    obvs,\n",
    "    SX,\n",
    "    SY,\n",
    "    dstream_algo=dstream_algo,\n",
    "    dstream_S=dstream_S,\n",
    "    num_frames=num_frames,\n",
    ")\n"
   ]
  },
  {
   "cell_type": "markdown",
   "metadata": {},
   "source": [
    "## `crea_func=np.random.rand` `mirror_backtrack=True`\n"
   ]
  },
  {
   "cell_type": "code",
   "execution_count": null,
   "metadata": {},
   "outputs": [],
   "source": [
    "for i in range(2):\n",
    "    obvs = show_sample_observations(\n",
    "        SX,\n",
    "        SY,\n",
    "        crea_func=lambda x: np.random.rand(*x),\n",
    "        mirror_backtrack=True,\n",
    "        mirror_backtrack_transform=mirror_backtrack_transform,\n",
    "        num_frames=num_frames,\n",
    "    )\n",
    "    observations = pathsplot(\n",
    "        [\n",
    "            build_path(coordinate, obvs, AttributeBoxMax(20))\n",
    "            for coordinate in tqdm(seed_coordinates)\n",
    "        ],\n",
    "        xmax=SX,\n",
    "        ymax=SY,\n",
    "        col_wrap=4,\n",
    "    )\n",
    "    plt.show()\n",
    "\n",
    "show_sample_hstrat_tree(\n",
    "    obvs,\n",
    "    SX,\n",
    "    SY,\n",
    "    dstream_algo=dstream_algo,\n",
    "    dstream_S=dstream_S,\n",
    "    num_frames=num_frames,\n",
    ")\n"
   ]
  }
 ],
 "metadata": {
  "kernelspec": {
   "display_name": "env",
   "language": "python",
   "name": "python3"
  },
  "language_info": {
   "codemirror_mode": {
    "name": "ipython",
    "version": 3
   },
   "file_extension": ".py",
   "mimetype": "text/x-python",
   "name": "python",
   "nbconvert_exporter": "python",
   "pygments_lexer": "ipython3"
  }
 },
 "nbformat": 4,
 "nbformat_minor": 2
}
