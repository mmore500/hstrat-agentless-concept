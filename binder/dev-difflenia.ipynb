{
 "cells": [
  {
   "cell_type": "markdown",
   "metadata": {},
   "source": [
    "adapted from <https://developmentalsystems.org/sensorimotor-lenia/>\n"
   ]
  },
  {
   "cell_type": "code",
   "execution_count": 1,
   "metadata": {
    "execution": {
     "iopub.execute_input": "2025-03-24T20:58:18.120097Z",
     "iopub.status.busy": "2025-03-24T20:58:18.119919Z",
     "iopub.status.idle": "2025-03-24T20:58:18.132891Z",
     "shell.execute_reply": "2025-03-24T20:58:18.132436Z"
    }
   },
   "outputs": [],
   "source": [
    "%load_ext watermark\n"
   ]
  },
  {
   "cell_type": "code",
   "execution_count": 2,
   "metadata": {
    "execution": {
     "iopub.execute_input": "2025-03-24T20:58:18.134444Z",
     "iopub.status.busy": "2025-03-24T20:58:18.134264Z",
     "iopub.status.idle": "2025-03-24T20:58:21.747529Z",
     "shell.execute_reply": "2025-03-24T20:58:21.747005Z"
    }
   },
   "outputs": [],
   "source": [
    "import itertools as it\n",
    "import os\n",
    "\n",
    "import matplotlib.cm as cm\n",
    "import torch\n",
    "\n",
    "from pylib.auxlib._log_context_duration import log_context_duration\n",
    "from pylib.auxlib._make_reproducible import make_reproducible\n",
    "from pylib.difflenia._VideoWriter import VideoWriter\n",
    "from pylib.difflenia._generate_observations import generate_observations\n",
    "\n",
    "make_reproducible()\n",
    "torch.set_default_tensor_type(\"torch.FloatTensor\")\n"
   ]
  },
  {
   "cell_type": "code",
   "execution_count": 3,
   "metadata": {
    "execution": {
     "iopub.execute_input": "2025-03-24T20:58:21.750061Z",
     "iopub.status.busy": "2025-03-24T20:58:21.749573Z",
     "iopub.status.idle": "2025-03-24T20:58:22.458321Z",
     "shell.execute_reply": "2025-03-24T20:58:22.457709Z"
    }
   },
   "outputs": [
    {
     "name": "stdout",
     "output_type": "stream",
     "text": [
      "Last updated: 2025-03-24T20:58:21.751322+00:00\n",
      "\n",
      "Python implementation: CPython\n",
      "Python version       : 3.10.12\n",
      "IPython version      : 7.31.1\n",
      "\n",
      "Compiler    : GCC 11.4.0\n",
      "OS          : Linux\n",
      "Release     : 6.8.0-1021-azure\n",
      "Machine     : x86_64\n",
      "Processor   : x86_64\n",
      "CPU cores   : 4\n",
      "Architecture: 64bit\n",
      "\n",
      "torch     : 2.0.1\n",
      "matplotlib: 3.9.2\n",
      "\n",
      "Watermark: 2.4.3\n",
      "\n"
     ]
    }
   ],
   "source": [
    "%watermark -diwmuv -iv\n"
   ]
  },
  {
   "cell_type": "code",
   "execution_count": 4,
   "metadata": {
    "execution": {
     "iopub.execute_input": "2025-03-24T20:58:22.484453Z",
     "iopub.status.busy": "2025-03-24T20:58:22.484080Z",
     "iopub.status.idle": "2025-03-24T20:58:31.496640Z",
     "shell.execute_reply": "2025-03-24T20:58:31.495986Z"
    }
   },
   "outputs": [
    {
     "name": "stdout",
     "output_type": "stream",
     "text": [
      "--2025-03-24 20:58:22--  https://osf.io/tqxhu/download\r\n",
      "Resolving osf.io (osf.io)... 35.190.84.173\r\n",
      "Connecting to osf.io (osf.io)|35.190.84.173|:443... connected.\r\n",
      "HTTP request sent, awaiting response... 302 FOUND\r\n",
      "Location: https://files.osf.io/v1/resources/fj8u6/providers/osfstorage/67dc35d277ab6a0debc6ff94?action=download&direct&version=1 [following]\r\n",
      "--2025-03-24 20:58:22--  https://files.osf.io/v1/resources/fj8u6/providers/osfstorage/67dc35d277ab6a0debc6ff94?action=download&direct&version=1\r\n",
      "Resolving files.osf.io (files.osf.io)... 35.186.214.196\r\n",
      "Connecting to files.osf.io (files.osf.io)|35.186.214.196|:443... connected.\r\n",
      "HTTP request sent, awaiting response... 200 OK\r\n",
      "Length: 12214 (12K) [application/octet-stream]\r\n",
      "Saving to: ‘/tmp/crea1.pickle’\r\n",
      "\r\n",
      "/tmp/crea1.pickle   100%[===================>]  11.93K  --.-KB/s    in 0.001s  \r\n",
      "\r\n",
      "2025-03-24 20:58:25 (14.8 MB/s) - ‘/tmp/crea1.pickle’ saved [12214/12214]\r\n",
      "\r\n",
      "--2025-03-24 20:58:25--  https://osf.io/tqfwk/download\r\n",
      "Resolving osf.io (osf.io)... 35.190.84.173\r\n",
      "Connecting to osf.io (osf.io)|35.190.84.173|:443... connected.\r\n",
      "HTTP request sent, awaiting response... 302 FOUND\r\n",
      "Location: https://files.osf.io/v1/resources/fj8u6/providers/osfstorage/67dc35d476eae4914fc6fa7b?action=download&direct&version=1 [following]\r\n",
      "--2025-03-24 20:58:26--  https://files.osf.io/v1/resources/fj8u6/providers/osfstorage/67dc35d476eae4914fc6fa7b?action=download&direct&version=1\r\n",
      "Resolving files.osf.io (files.osf.io)... 35.186.214.196\r\n",
      "Connecting to files.osf.io (files.osf.io)|35.186.214.196|:443... connected.\r\n",
      "HTTP request sent, awaiting response... 200 OK\r\n",
      "Length: 12022 (12K) [application/octet-stream]\r\n",
      "Saving to: ‘/tmp/crea2.pickle’\r\n",
      "\r\n",
      "/tmp/crea2.pickle   100%[===================>]  11.74K  --.-KB/s    in 0.001s  \r\n",
      "\r\n",
      "2025-03-24 20:58:28 (12.7 MB/s) - ‘/tmp/crea2.pickle’ saved [12022/12022]\r\n",
      "\r\n",
      "--2025-03-24 20:58:28--  https://osf.io/ba536/download\r\n",
      "Resolving osf.io (osf.io)... 35.190.84.173\r\n",
      "Connecting to osf.io (osf.io)|35.190.84.173|:443... connected.\r\n",
      "HTTP request sent, awaiting response... 302 FOUND\r\n",
      "Location: https://files.osf.io/v1/resources/fj8u6/providers/osfstorage/67dc35d177ab6a0debc6ff92?action=download&direct&version=1 [following]\r\n",
      "--2025-03-24 20:58:28--  https://files.osf.io/v1/resources/fj8u6/providers/osfstorage/67dc35d177ab6a0debc6ff92?action=download&direct&version=1\r\n",
      "Resolving files.osf.io (files.osf.io)... 35.186.214.196\r\n",
      "Connecting to files.osf.io (files.osf.io)|35.186.214.196|:443... connected.\r\n",
      "HTTP request sent, awaiting response... 200 OK\r\n",
      "Length: 12022 (12K) [application/octet-stream]\r\n",
      "Saving to: ‘/tmp/crea3.pickle’\r\n",
      "\r\n",
      "/tmp/crea3.pickle   100%[===================>]  11.74K  --.-KB/s    in 0s      \r\n",
      "\r\n",
      "2025-03-24 20:58:31 (62.5 MB/s) - ‘/tmp/crea3.pickle’ saved [12022/12022]\r\n",
      "\r\n"
     ]
    }
   ],
   "source": [
    "# 3 examples of discovered creatures (1 channel and 10 rules)\n",
    "\n",
    "!wget  'https://osf.io/tqxhu/download' -O '/tmp/crea1.pickle'\n",
    "!wget  'https://osf.io/tqfwk/download' -O '/tmp/crea2.pickle'\n",
    "!wget  'https://osf.io/ba536/download' -O '/tmp/crea3.pickle'\n"
   ]
  },
  {
   "cell_type": "code",
   "execution_count": 5,
   "metadata": {
    "execution": {
     "iopub.execute_input": "2025-03-24T20:58:31.498531Z",
     "iopub.status.busy": "2025-03-24T20:58:31.498348Z",
     "iopub.status.idle": "2025-03-24T20:58:31.501978Z",
     "shell.execute_reply": "2025-03-24T20:58:31.501497Z"
    }
   },
   "outputs": [],
   "source": [
    "image_counter = it.count()\n",
    "image_subdir = \"out/dev-difflenia\"\n",
    "os.makedirs(image_subdir, exist_ok=True)\n",
    "\n",
    "\n",
    "def make_gif_path():\n",
    "    return f\"{image_subdir}/image_{next(image_counter):04d}.gif\"\n"
   ]
  },
  {
   "cell_type": "code",
   "execution_count": 6,
   "metadata": {
    "execution": {
     "iopub.execute_input": "2025-03-24T20:58:31.503733Z",
     "iopub.status.busy": "2025-03-24T20:58:31.503389Z",
     "iopub.status.idle": "2025-03-24T20:58:31.507334Z",
     "shell.execute_reply": "2025-03-24T20:58:31.506863Z"
    }
   },
   "outputs": [],
   "source": [
    "def show_sample_observations(\n",
    "    SX,\n",
    "    SY,\n",
    "    *,\n",
    "    borders,\n",
    "    device,\n",
    "    mode,\n",
    "    num_frames,\n",
    "    crea_file=\"crea1.pickle\",\n",
    "    fps=30.0,\n",
    "    logger=print,\n",
    "    zoom=1,\n",
    "):\n",
    "\n",
    "    observations = generate_observations(\n",
    "        SX=SX,\n",
    "        SY=SY,\n",
    "        borders=borders,\n",
    "        crea_file=crea_file,\n",
    "        device=device,\n",
    "        mode=mode,\n",
    "        num_frames=num_frames,\n",
    "        zoom=zoom,\n",
    "    )\n",
    "    with log_context_duration(\"Creating video\", logger=logger):\n",
    "        cm.get_cmap(\"jet\")\n",
    "        with VideoWriter(make_gif_path(), fps) as vid:\n",
    "            vid.add_observations(observations)\n",
    "            vid.show()\n"
   ]
  },
  {
   "cell_type": "code",
   "execution_count": 7,
   "metadata": {
    "execution": {
     "iopub.execute_input": "2025-03-24T20:58:31.509152Z",
     "iopub.status.busy": "2025-03-24T20:58:31.508748Z",
     "iopub.status.idle": "2025-03-24T20:58:31.512120Z",
     "shell.execute_reply": "2025-03-24T20:58:31.511558Z"
    }
   },
   "outputs": [],
   "source": [
    "SX, SY = 400, 400\n",
    "borders = True\n",
    "device = torch.device([\"cpu\", \"cuda\"][torch.cuda.is_available()])\n",
    "logger = print\n",
    "mode = \"random\"\n",
    "num_frames = 1000\n"
   ]
  },
  {
   "cell_type": "code",
   "execution_count": 8,
   "metadata": {
    "execution": {
     "iopub.execute_input": "2025-03-24T20:58:31.513838Z",
     "iopub.status.busy": "2025-03-24T20:58:31.513502Z",
     "iopub.status.idle": "2025-03-24T20:59:49.177351Z",
     "shell.execute_reply": "2025-03-24T20:59:49.176821Z"
    }
   },
   "outputs": [
    {
     "name": "stderr",
     "output_type": "stream",
     "text": [
      "/home/runner/work/hstrat-agentless-concept/hstrat-agentless-concept/binder/pylib/difflenia/_LeniaStepFFTC.py:126: UserWarning: Casting complex values to real discards the imaginary part (Triggered internally at ../aten/src/ATen/native/Copy.cpp:276.)\n",
      "  self.kernels[i] = kernel_FFT\n"
     ]
    },
    {
     "name": "stdout",
     "output_type": "stream",
     "text": [
      "enter log_context_duration for Running Lenia\n",
      "exit log_context_duration for Running Lenia\n",
      "!!! {\"Running Lenia\": 14.511854887008667}\n",
      "enter log_context_duration for Creating video\n"
     ]
    },
    {
     "name": "stderr",
     "output_type": "stream",
     "text": [
      "/tmp/ipykernel_5629/4234249696.py:26: MatplotlibDeprecationWarning: The get_cmap function was deprecated in Matplotlib 3.7 and will be removed in 3.11. Use ``matplotlib.colormaps[name]`` or ``matplotlib.colormaps.get_cmap()`` or ``pyplot.get_cmap()`` instead.\n",
      "  cm.get_cmap(\"jet\")\n"
     ]
    },
    {
     "data": {
      "text/html": [
       "<img src=\"out/dev-difflenia/image_0000.gif\"/>"
      ],
      "text/plain": [
       "<IPython.core.display.Image object>"
      ]
     },
     "metadata": {},
     "output_type": "display_data"
    },
    {
     "name": "stdout",
     "output_type": "stream",
     "text": [
      "exit log_context_duration for Creating video\n",
      "!!! {\"Creating video\": 23.554651260375977}\n",
      "enter log_context_duration for Running Lenia\n",
      "exit log_context_duration for Running Lenia\n",
      "!!! {\"Running Lenia\": 14.9728262424469}\n",
      "enter log_context_duration for Creating video\n"
     ]
    },
    {
     "name": "stderr",
     "output_type": "stream",
     "text": [
      "/tmp/ipykernel_5629/4234249696.py:26: MatplotlibDeprecationWarning: The get_cmap function was deprecated in Matplotlib 3.7 and will be removed in 3.11. Use ``matplotlib.colormaps[name]`` or ``matplotlib.colormaps.get_cmap()`` or ``pyplot.get_cmap()`` instead.\n",
      "  cm.get_cmap(\"jet\")\n"
     ]
    },
    {
     "data": {
      "text/html": [
       "<img src=\"out/dev-difflenia/image_0001.gif\"/>"
      ],
      "text/plain": [
       "<IPython.core.display.Image object>"
      ]
     },
     "metadata": {},
     "output_type": "display_data"
    },
    {
     "name": "stdout",
     "output_type": "stream",
     "text": [
      "exit log_context_duration for Creating video\n",
      "!!! {\"Creating video\": 24.09608817100525}\n"
     ]
    }
   ],
   "source": [
    "for i in range(2):\n",
    "    show_sample_observations(\n",
    "        SX,\n",
    "        SY,\n",
    "        borders=borders,\n",
    "        crea_file=\"/tmp/crea1.pickle\",\n",
    "        device=device,\n",
    "        logger=logger,\n",
    "        mode=mode,\n",
    "        num_frames=num_frames,\n",
    "        zoom=1,\n",
    "    )\n"
   ]
  },
  {
   "cell_type": "code",
   "execution_count": 9,
   "metadata": {
    "execution": {
     "iopub.execute_input": "2025-03-24T20:59:49.179376Z",
     "iopub.status.busy": "2025-03-24T20:59:49.178953Z",
     "iopub.status.idle": "2025-03-24T21:01:08.431795Z",
     "shell.execute_reply": "2025-03-24T21:01:08.431254Z"
    }
   },
   "outputs": [
    {
     "name": "stdout",
     "output_type": "stream",
     "text": [
      "enter log_context_duration for Running Lenia\n",
      "exit log_context_duration for Running Lenia\n",
      "!!! {\"Running Lenia\": 14.740604400634766}\n",
      "enter log_context_duration for Creating video\n"
     ]
    },
    {
     "name": "stderr",
     "output_type": "stream",
     "text": [
      "/tmp/ipykernel_5629/4234249696.py:26: MatplotlibDeprecationWarning: The get_cmap function was deprecated in Matplotlib 3.7 and will be removed in 3.11. Use ``matplotlib.colormaps[name]`` or ``matplotlib.colormaps.get_cmap()`` or ``pyplot.get_cmap()`` instead.\n",
      "  cm.get_cmap(\"jet\")\n"
     ]
    },
    {
     "data": {
      "text/html": [
       "<img src=\"out/dev-difflenia/image_0002.gif\"/>"
      ],
      "text/plain": [
       "<IPython.core.display.Image object>"
      ]
     },
     "metadata": {},
     "output_type": "display_data"
    },
    {
     "name": "stdout",
     "output_type": "stream",
     "text": [
      "exit log_context_duration for Creating video\n",
      "!!! {\"Creating video\": 24.634796380996704}\n",
      "enter log_context_duration for Running Lenia\n",
      "exit log_context_duration for Running Lenia\n",
      "!!! {\"Running Lenia\": 14.52652645111084}\n",
      "enter log_context_duration for Creating video\n"
     ]
    },
    {
     "name": "stderr",
     "output_type": "stream",
     "text": [
      "/tmp/ipykernel_5629/4234249696.py:26: MatplotlibDeprecationWarning: The get_cmap function was deprecated in Matplotlib 3.7 and will be removed in 3.11. Use ``matplotlib.colormaps[name]`` or ``matplotlib.colormaps.get_cmap()`` or ``pyplot.get_cmap()`` instead.\n",
      "  cm.get_cmap(\"jet\")\n"
     ]
    },
    {
     "data": {
      "text/html": [
       "<img src=\"out/dev-difflenia/image_0003.gif\"/>"
      ],
      "text/plain": [
       "<IPython.core.display.Image object>"
      ]
     },
     "metadata": {},
     "output_type": "display_data"
    },
    {
     "name": "stdout",
     "output_type": "stream",
     "text": [
      "exit log_context_duration for Creating video\n",
      "!!! {\"Creating video\": 24.96776056289673}\n"
     ]
    }
   ],
   "source": [
    "for i in range(2):\n",
    "    show_sample_observations(\n",
    "        SX,\n",
    "        SY,\n",
    "        borders=borders,\n",
    "        crea_file=\"/tmp/crea2.pickle\",\n",
    "        device=device,\n",
    "        logger=logger,\n",
    "        mode=mode,\n",
    "        num_frames=num_frames,\n",
    "        zoom=1,\n",
    "    )\n"
   ]
  }
 ],
 "metadata": {
  "kernelspec": {
   "display_name": ".venv",
   "language": "python",
   "name": "python3"
  },
  "language_info": {
   "codemirror_mode": {
    "name": "ipython",
    "version": 3
   },
   "file_extension": ".py",
   "mimetype": "text/x-python",
   "name": "python",
   "nbconvert_exporter": "python",
   "pygments_lexer": "ipython3",
   "version": "3.10.12"
  }
 },
 "nbformat": 4,
 "nbformat_minor": 2
}
