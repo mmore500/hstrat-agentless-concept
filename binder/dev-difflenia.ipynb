{
 "cells": [
  {
   "cell_type": "markdown",
   "metadata": {},
   "source": [
    "adapted from <https://developmentalsystems.org/sensorimotor-lenia/>\n"
   ]
  },
  {
   "cell_type": "code",
   "execution_count": 1,
   "metadata": {
    "execution": {
     "iopub.execute_input": "2025-03-24T21:12:19.910092Z",
     "iopub.status.busy": "2025-03-24T21:12:19.909651Z",
     "iopub.status.idle": "2025-03-24T21:12:19.923329Z",
     "shell.execute_reply": "2025-03-24T21:12:19.922829Z"
    }
   },
   "outputs": [],
   "source": [
    "%load_ext watermark\n"
   ]
  },
  {
   "cell_type": "code",
   "execution_count": 2,
   "metadata": {
    "execution": {
     "iopub.execute_input": "2025-03-24T21:12:19.925211Z",
     "iopub.status.busy": "2025-03-24T21:12:19.925026Z",
     "iopub.status.idle": "2025-03-24T21:12:23.083669Z",
     "shell.execute_reply": "2025-03-24T21:12:23.083040Z"
    }
   },
   "outputs": [],
   "source": [
    "import itertools as it\n",
    "import os\n",
    "\n",
    "import matplotlib.cm as cm\n",
    "import torch\n",
    "\n",
    "from pylib.auxlib._log_context_duration import log_context_duration\n",
    "from pylib.auxlib._make_reproducible import make_reproducible\n",
    "from pylib.difflenia._VideoWriter import VideoWriter\n",
    "from pylib.difflenia._generate_observations import generate_observations\n",
    "\n",
    "make_reproducible()\n",
    "torch.set_default_tensor_type(\"torch.FloatTensor\")\n"
   ]
  },
  {
   "cell_type": "code",
   "execution_count": 3,
   "metadata": {
    "execution": {
     "iopub.execute_input": "2025-03-24T21:12:23.086092Z",
     "iopub.status.busy": "2025-03-24T21:12:23.085821Z",
     "iopub.status.idle": "2025-03-24T21:12:23.098064Z",
     "shell.execute_reply": "2025-03-24T21:12:23.097506Z"
    }
   },
   "outputs": [
    {
     "name": "stdout",
     "output_type": "stream",
     "text": [
      "Last updated: 2025-03-24T21:12:23.087110+00:00\n",
      "\n",
      "Python implementation: CPython\n",
      "Python version       : 3.10.12\n",
      "IPython version      : 7.31.1\n",
      "\n",
      "Compiler    : GCC 11.4.0\n",
      "OS          : Linux\n",
      "Release     : 6.8.0-1021-azure\n",
      "Machine     : x86_64\n",
      "Processor   : x86_64\n",
      "CPU cores   : 4\n",
      "Architecture: 64bit\n",
      "\n",
      "matplotlib: 3.9.2\n",
      "torch     : 2.0.1\n",
      "\n",
      "Watermark: 2.4.3\n",
      "\n"
     ]
    }
   ],
   "source": [
    "%watermark -diwmuv -iv\n"
   ]
  },
  {
   "cell_type": "code",
   "execution_count": 4,
   "metadata": {
    "execution": {
     "iopub.execute_input": "2025-03-24T21:12:23.125060Z",
     "iopub.status.busy": "2025-03-24T21:12:23.124490Z",
     "iopub.status.idle": "2025-03-24T21:12:31.377678Z",
     "shell.execute_reply": "2025-03-24T21:12:31.376878Z"
    }
   },
   "outputs": [
    {
     "name": "stdout",
     "output_type": "stream",
     "text": [
      "--2025-03-24 21:12:23--  https://osf.io/tqxhu/download\r\n",
      "Resolving osf.io (osf.io)... 35.190.84.173\r\n",
      "Connecting to osf.io (osf.io)|35.190.84.173|:443... connected.\r\n",
      "HTTP request sent, awaiting response... 302 FOUND\r\n",
      "Location: https://files.osf.io/v1/resources/fj8u6/providers/osfstorage/67dc35d277ab6a0debc6ff94?action=download&direct&version=1 [following]\r\n",
      "--2025-03-24 21:12:23--  https://files.osf.io/v1/resources/fj8u6/providers/osfstorage/67dc35d277ab6a0debc6ff94?action=download&direct&version=1\r\n",
      "Resolving files.osf.io (files.osf.io)... 35.186.214.196\r\n",
      "Connecting to files.osf.io (files.osf.io)|35.186.214.196|:443... connected.\r\n",
      "HTTP request sent, awaiting response... 200 OK\r\n",
      "Length: 12214 (12K) [application/octet-stream]\r\n",
      "Saving to: ‘/tmp/crea1.pickle’\r\n",
      "\r\n",
      "/tmp/crea1.pickle   100%[===================>]  11.93K  --.-KB/s    in 0.001s  \r\n",
      "\r\n",
      "2025-03-24 21:12:26 (15.8 MB/s) - ‘/tmp/crea1.pickle’ saved [12214/12214]\r\n",
      "\r\n",
      "--2025-03-24 21:12:26--  https://osf.io/tqfwk/download\r\n",
      "Resolving osf.io (osf.io)... 35.190.84.173\r\n",
      "Connecting to osf.io (osf.io)|35.190.84.173|:443... connected.\r\n",
      "HTTP request sent, awaiting response... 302 FOUND\r\n",
      "Location: https://files.osf.io/v1/resources/fj8u6/providers/osfstorage/67dc35d476eae4914fc6fa7b?action=download&direct&version=1 [following]\r\n",
      "--2025-03-24 21:12:26--  https://files.osf.io/v1/resources/fj8u6/providers/osfstorage/67dc35d476eae4914fc6fa7b?action=download&direct&version=1\r\n",
      "Resolving files.osf.io (files.osf.io)... 35.186.214.196\r\n",
      "Connecting to files.osf.io (files.osf.io)|35.186.214.196|:443... connected.\r\n",
      "HTTP request sent, awaiting response... 200 OK\r\n",
      "Length: 12022 (12K) [application/octet-stream]\r\n",
      "Saving to: ‘/tmp/crea2.pickle’\r\n",
      "\r\n",
      "/tmp/crea2.pickle   100%[===================>]  11.74K  --.-KB/s    in 0.001s  \r\n",
      "\r\n",
      "2025-03-24 21:12:29 (13.2 MB/s) - ‘/tmp/crea2.pickle’ saved [12022/12022]\r\n",
      "\r\n",
      "--2025-03-24 21:12:29--  https://osf.io/ba536/download\r\n",
      "Resolving osf.io (osf.io)... 35.190.84.173\r\n",
      "Connecting to osf.io (osf.io)|35.190.84.173|:443... connected.\r\n",
      "HTTP request sent, awaiting response... 302 FOUND\r\n",
      "Location: https://files.osf.io/v1/resources/fj8u6/providers/osfstorage/67dc35d177ab6a0debc6ff92?action=download&direct&version=1 [following]\r\n",
      "--2025-03-24 21:12:29--  https://files.osf.io/v1/resources/fj8u6/providers/osfstorage/67dc35d177ab6a0debc6ff92?action=download&direct&version=1\r\n",
      "Resolving files.osf.io (files.osf.io)... 35.186.214.196\r\n",
      "Connecting to files.osf.io (files.osf.io)|35.186.214.196|:443... connected.\r\n",
      "HTTP request sent, awaiting response... 200 OK\r\n",
      "Length: 12022 (12K) [application/octet-stream]\r\n",
      "Saving to: ‘/tmp/crea3.pickle’\r\n",
      "\r\n",
      "/tmp/crea3.pickle   100%[===================>]  11.74K  --.-KB/s    in 0s      \r\n",
      "\r\n",
      "2025-03-24 21:12:31 (43.6 MB/s) - ‘/tmp/crea3.pickle’ saved [12022/12022]\r\n",
      "\r\n"
     ]
    }
   ],
   "source": [
    "# 3 examples of discovered creatures (1 channel and 10 rules)\n",
    "\n",
    "!wget  'https://osf.io/tqxhu/download' -O '/tmp/crea1.pickle'\n",
    "!wget  'https://osf.io/tqfwk/download' -O '/tmp/crea2.pickle'\n",
    "!wget  'https://osf.io/ba536/download' -O '/tmp/crea3.pickle'\n"
   ]
  },
  {
   "cell_type": "code",
   "execution_count": 5,
   "metadata": {
    "execution": {
     "iopub.execute_input": "2025-03-24T21:12:31.380316Z",
     "iopub.status.busy": "2025-03-24T21:12:31.379834Z",
     "iopub.status.idle": "2025-03-24T21:12:31.383723Z",
     "shell.execute_reply": "2025-03-24T21:12:31.383159Z"
    }
   },
   "outputs": [],
   "source": [
    "image_counter = it.count()\n",
    "image_subdir = \"out/dev-difflenia\"\n",
    "os.makedirs(image_subdir, exist_ok=True)\n",
    "\n",
    "\n",
    "def make_gif_path():\n",
    "    return f\"{image_subdir}/image_{next(image_counter):04d}.gif\"\n"
   ]
  },
  {
   "cell_type": "code",
   "execution_count": 6,
   "metadata": {
    "execution": {
     "iopub.execute_input": "2025-03-24T21:12:31.385691Z",
     "iopub.status.busy": "2025-03-24T21:12:31.385254Z",
     "iopub.status.idle": "2025-03-24T21:12:31.389133Z",
     "shell.execute_reply": "2025-03-24T21:12:31.388625Z"
    }
   },
   "outputs": [],
   "source": [
    "def show_sample_observations(\n",
    "    SX,\n",
    "    SY,\n",
    "    *,\n",
    "    borders,\n",
    "    device,\n",
    "    mode,\n",
    "    num_frames,\n",
    "    crea_file=\"crea1.pickle\",\n",
    "    fps=30.0,\n",
    "    logger=print,\n",
    "    zoom=1,\n",
    "):\n",
    "\n",
    "    observations = generate_observations(\n",
    "        SX=SX,\n",
    "        SY=SY,\n",
    "        borders=borders,\n",
    "        crea_file=crea_file,\n",
    "        device=device,\n",
    "        mode=mode,\n",
    "        num_frames=num_frames,\n",
    "        zoom=zoom,\n",
    "    )\n",
    "    with log_context_duration(\"Creating video\", logger=logger):\n",
    "        cm.get_cmap(\"jet\")\n",
    "        with VideoWriter(make_gif_path(), fps) as vid:\n",
    "            vid.add_observations(observations)\n",
    "            vid.show()\n"
   ]
  },
  {
   "cell_type": "code",
   "execution_count": 7,
   "metadata": {
    "execution": {
     "iopub.execute_input": "2025-03-24T21:12:31.390967Z",
     "iopub.status.busy": "2025-03-24T21:12:31.390630Z",
     "iopub.status.idle": "2025-03-24T21:12:31.393795Z",
     "shell.execute_reply": "2025-03-24T21:12:31.393337Z"
    }
   },
   "outputs": [],
   "source": [
    "SX, SY = 400, 400\n",
    "borders = True\n",
    "device = torch.device([\"cpu\", \"cuda\"][torch.cuda.is_available()])\n",
    "logger = print\n",
    "mode = \"random\"\n",
    "num_frames = 1000\n"
   ]
  },
  {
   "cell_type": "code",
   "execution_count": 8,
   "metadata": {
    "execution": {
     "iopub.execute_input": "2025-03-24T21:12:31.395472Z",
     "iopub.status.busy": "2025-03-24T21:12:31.395303Z",
     "iopub.status.idle": "2025-03-24T21:13:50.037509Z",
     "shell.execute_reply": "2025-03-24T21:13:50.036844Z"
    }
   },
   "outputs": [
    {
     "name": "stderr",
     "output_type": "stream",
     "text": [
      "/home/runner/work/hstrat-agentless-concept/hstrat-agentless-concept/binder/pylib/difflenia/_LeniaStepFFTC.py:126: UserWarning: Casting complex values to real discards the imaginary part (Triggered internally at ../aten/src/ATen/native/Copy.cpp:276.)\n",
      "  self.kernels[i] = kernel_FFT\n"
     ]
    },
    {
     "name": "stdout",
     "output_type": "stream",
     "text": [
      "enter log_context_duration for Running Lenia\n",
      "exit log_context_duration for Running Lenia\n",
      "!!! {\"Running Lenia\": 15.171628713607788}\n",
      "enter log_context_duration for Creating video\n"
     ]
    },
    {
     "name": "stderr",
     "output_type": "stream",
     "text": [
      "/tmp/ipykernel_5537/4234249696.py:26: MatplotlibDeprecationWarning: The get_cmap function was deprecated in Matplotlib 3.7 and will be removed in 3.11. Use ``matplotlib.colormaps[name]`` or ``matplotlib.colormaps.get_cmap()`` or ``pyplot.get_cmap()`` instead.\n",
      "  cm.get_cmap(\"jet\")\n"
     ]
    },
    {
     "data": {
      "text/html": [
       "<img src=\"out/dev-difflenia/image_0000.gif\"/>"
      ],
      "text/plain": [
       "<IPython.core.display.Image object>"
      ]
     },
     "metadata": {},
     "output_type": "display_data"
    },
    {
     "name": "stdout",
     "output_type": "stream",
     "text": [
      "exit log_context_duration for Creating video\n",
      "!!! {\"Creating video\": 23.671753883361816}\n",
      "enter log_context_duration for Running Lenia\n",
      "exit log_context_duration for Running Lenia\n",
      "!!! {\"Running Lenia\": 15.220962047576904}\n",
      "enter log_context_duration for Creating video\n"
     ]
    },
    {
     "name": "stderr",
     "output_type": "stream",
     "text": [
      "/tmp/ipykernel_5537/4234249696.py:26: MatplotlibDeprecationWarning: The get_cmap function was deprecated in Matplotlib 3.7 and will be removed in 3.11. Use ``matplotlib.colormaps[name]`` or ``matplotlib.colormaps.get_cmap()`` or ``pyplot.get_cmap()`` instead.\n",
      "  cm.get_cmap(\"jet\")\n"
     ]
    },
    {
     "data": {
      "text/html": [
       "<img src=\"out/dev-difflenia/image_0001.gif\"/>"
      ],
      "text/plain": [
       "<IPython.core.display.Image object>"
      ]
     },
     "metadata": {},
     "output_type": "display_data"
    },
    {
     "name": "stdout",
     "output_type": "stream",
     "text": [
      "exit log_context_duration for Creating video\n",
      "!!! {\"Creating video\": 24.049007892608643}\n"
     ]
    }
   ],
   "source": [
    "for i in range(2):\n",
    "    show_sample_observations(\n",
    "        SX,\n",
    "        SY,\n",
    "        borders=borders,\n",
    "        crea_file=\"/tmp/crea1.pickle\",\n",
    "        device=device,\n",
    "        logger=logger,\n",
    "        mode=mode,\n",
    "        num_frames=num_frames,\n",
    "        zoom=1,\n",
    "    )\n"
   ]
  },
  {
   "cell_type": "code",
   "execution_count": 9,
   "metadata": {
    "execution": {
     "iopub.execute_input": "2025-03-24T21:13:50.039514Z",
     "iopub.status.busy": "2025-03-24T21:13:50.039169Z",
     "iopub.status.idle": "2025-03-24T21:15:10.458311Z",
     "shell.execute_reply": "2025-03-24T21:15:10.457755Z"
    }
   },
   "outputs": [
    {
     "name": "stdout",
     "output_type": "stream",
     "text": [
      "enter log_context_duration for Running Lenia\n",
      "exit log_context_duration for Running Lenia\n",
      "!!! {\"Running Lenia\": 15.25265121459961}\n",
      "enter log_context_duration for Creating video\n"
     ]
    },
    {
     "name": "stderr",
     "output_type": "stream",
     "text": [
      "/tmp/ipykernel_5537/4234249696.py:26: MatplotlibDeprecationWarning: The get_cmap function was deprecated in Matplotlib 3.7 and will be removed in 3.11. Use ``matplotlib.colormaps[name]`` or ``matplotlib.colormaps.get_cmap()`` or ``pyplot.get_cmap()`` instead.\n",
      "  cm.get_cmap(\"jet\")\n"
     ]
    },
    {
     "data": {
      "text/html": [
       "<img src=\"out/dev-difflenia/image_0002.gif\"/>"
      ],
      "text/plain": [
       "<IPython.core.display.Image object>"
      ]
     },
     "metadata": {},
     "output_type": "display_data"
    },
    {
     "name": "stdout",
     "output_type": "stream",
     "text": [
      "exit log_context_duration for Creating video\n",
      "!!! {\"Creating video\": 24.639649391174316}\n",
      "enter log_context_duration for Running Lenia\n",
      "exit log_context_duration for Running Lenia\n",
      "!!! {\"Running Lenia\": 15.158681869506836}\n",
      "enter log_context_duration for Creating video\n"
     ]
    },
    {
     "name": "stderr",
     "output_type": "stream",
     "text": [
      "/tmp/ipykernel_5537/4234249696.py:26: MatplotlibDeprecationWarning: The get_cmap function was deprecated in Matplotlib 3.7 and will be removed in 3.11. Use ``matplotlib.colormaps[name]`` or ``matplotlib.colormaps.get_cmap()`` or ``pyplot.get_cmap()`` instead.\n",
      "  cm.get_cmap(\"jet\")\n"
     ]
    },
    {
     "data": {
      "text/html": [
       "<img src=\"out/dev-difflenia/image_0003.gif\"/>"
      ],
      "text/plain": [
       "<IPython.core.display.Image object>"
      ]
     },
     "metadata": {},
     "output_type": "display_data"
    },
    {
     "name": "stdout",
     "output_type": "stream",
     "text": [
      "exit log_context_duration for Creating video\n",
      "!!! {\"Creating video\": 24.994064569473267}\n"
     ]
    }
   ],
   "source": [
    "for i in range(2):\n",
    "    show_sample_observations(\n",
    "        SX,\n",
    "        SY,\n",
    "        borders=borders,\n",
    "        crea_file=\"/tmp/crea2.pickle\",\n",
    "        device=device,\n",
    "        logger=logger,\n",
    "        mode=mode,\n",
    "        num_frames=num_frames,\n",
    "        zoom=1,\n",
    "    )\n"
   ]
  }
 ],
 "metadata": {
  "kernelspec": {
   "display_name": ".venv",
   "language": "python",
   "name": "python3"
  },
  "language_info": {
   "codemirror_mode": {
    "name": "ipython",
    "version": 3
   },
   "file_extension": ".py",
   "mimetype": "text/x-python",
   "name": "python",
   "nbconvert_exporter": "python",
   "pygments_lexer": "ipython3",
   "version": "3.10.12"
  }
 },
 "nbformat": 4,
 "nbformat_minor": 2
}
