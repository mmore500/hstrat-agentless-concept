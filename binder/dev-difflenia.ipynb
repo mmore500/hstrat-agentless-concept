{
 "cells": [
  {
   "cell_type": "markdown",
   "metadata": {},
   "source": [
    "adapted from <https://developmentalsystems.org/sensorimotor-lenia/>\n"
   ]
  },
  {
   "cell_type": "code",
   "execution_count": null,
   "metadata": {},
   "outputs": [],
   "source": [
    "%load_ext watermark\n"
   ]
  },
  {
   "cell_type": "code",
   "execution_count": null,
   "metadata": {},
   "outputs": [],
   "source": [
    "import itertools as it\n",
    "import os\n",
    "\n",
    "import torch\n",
    "\n",
    "from pylib.auxlib._log_context_duration import log_context_duration\n",
    "from pylib.auxlib._make_reproducible import make_reproducible\n",
    "from pylib.difflenia._VideoWriter import VideoWriter\n",
    "from pylib.difflenia._generate_observations import generate_observations\n",
    "\n",
    "make_reproducible()\n",
    "torch.set_default_tensor_type(\"torch.FloatTensor\")\n"
   ]
  },
  {
   "cell_type": "code",
   "execution_count": null,
   "metadata": {},
   "outputs": [],
   "source": [
    "%watermark -diwmuv -iv\n"
   ]
  },
  {
   "cell_type": "code",
   "execution_count": null,
   "metadata": {},
   "outputs": [],
   "source": [
    "# 3 examples of discovered creatures (1 channel and 10 rules)\n",
    "\n",
    "!wget  'https://osf.io/tqxhu/download' -O '/tmp/crea1.pickle'\n",
    "!wget  'https://osf.io/tqfwk/download' -O '/tmp/crea2.pickle'\n",
    "!wget  'https://osf.io/ba536/download' -O '/tmp/crea3.pickle'\n"
   ]
  },
  {
   "cell_type": "code",
   "execution_count": null,
   "metadata": {},
   "outputs": [],
   "source": [
    "image_counter = it.count()\n",
    "image_subdir = \"out/dev-difflenia\"\n",
    "os.makedirs(image_subdir, exist_ok=True)\n",
    "\n",
    "\n",
    "def make_gif_path():\n",
    "    return f\"{image_subdir}/image_{next(image_counter):04d}.gif\"\n"
   ]
  },
  {
   "cell_type": "code",
   "execution_count": null,
   "metadata": {},
   "outputs": [],
   "source": [
    "def show_sample_observations(\n",
    "    SX,\n",
    "    SY,\n",
    "    *,\n",
    "    borders,\n",
    "    device,\n",
    "    mode,\n",
    "    num_frames,\n",
    "    crea_file=\"crea1.pickle\",\n",
    "    fps=30.0,\n",
    "    logger=print,\n",
    "    zoom=1,\n",
    "):\n",
    "\n",
    "    observations = generate_observations(\n",
    "        SX=SX,\n",
    "        SY=SY,\n",
    "        borders=borders,\n",
    "        crea_file=crea_file,\n",
    "        device=device,\n",
    "        mode=mode,\n",
    "        num_frames=num_frames,\n",
    "        zoom=zoom,\n",
    "    )\n",
    "    with log_context_duration(\"Creating video\", logger=logger):\n",
    "        with VideoWriter(make_gif_path(), fps) as vid:\n",
    "            vid.add_observations(observations)\n",
    "            vid.show()\n"
   ]
  },
  {
   "cell_type": "code",
   "execution_count": null,
   "metadata": {},
   "outputs": [],
   "source": [
    "SX, SY = 448, 448\n",
    "borders = True\n",
    "device = torch.device([\"cpu\", \"cuda\"][torch.cuda.is_available()])\n",
    "logger = print\n",
    "mode = \"random\"\n",
    "num_frames = 1000\n"
   ]
  },
  {
   "cell_type": "code",
   "execution_count": null,
   "metadata": {},
   "outputs": [],
   "source": [
    "for i in range(2):\n",
    "    show_sample_observations(\n",
    "        SX,\n",
    "        SY,\n",
    "        borders=borders,\n",
    "        crea_file=\"/tmp/crea1.pickle\",\n",
    "        device=device,\n",
    "        logger=logger,\n",
    "        mode=mode,\n",
    "        num_frames=num_frames,\n",
    "        zoom=1,\n",
    "    )\n"
   ]
  },
  {
   "cell_type": "code",
   "execution_count": null,
   "metadata": {},
   "outputs": [],
   "source": [
    "for i in range(2):\n",
    "    show_sample_observations(\n",
    "        SX,\n",
    "        SY,\n",
    "        borders=borders,\n",
    "        crea_file=\"/tmp/crea2.pickle\",\n",
    "        device=device,\n",
    "        logger=logger,\n",
    "        mode=mode,\n",
    "        num_frames=num_frames,\n",
    "        zoom=1,\n",
    "    )\n"
   ]
  }
 ],
 "metadata": {
  "kernelspec": {
   "display_name": ".venv",
   "language": "python",
   "name": "python3"
  },
  "language_info": {
   "codemirror_mode": {
    "name": "ipython",
    "version": 3
   },
   "file_extension": ".py",
   "mimetype": "text/x-python",
   "name": "python",
   "nbconvert_exporter": "python",
   "pygments_lexer": "ipython3"
  }
 },
 "nbformat": 4,
 "nbformat_minor": 2
}
