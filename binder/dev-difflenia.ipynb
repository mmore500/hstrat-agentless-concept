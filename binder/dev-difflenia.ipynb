{
 "cells": [
  {
   "cell_type": "markdown",
   "metadata": {},
   "source": [
    "adapted from <https://developmentalsystems.org/sensorimotor-lenia/>\n"
   ]
  },
  {
   "cell_type": "code",
   "execution_count": 1,
   "metadata": {
    "execution": {
     "iopub.execute_input": "2025-03-24T21:39:18.179169Z",
     "iopub.status.busy": "2025-03-24T21:39:18.178968Z",
     "iopub.status.idle": "2025-03-24T21:39:18.192578Z",
     "shell.execute_reply": "2025-03-24T21:39:18.192115Z"
    }
   },
   "outputs": [],
   "source": [
    "%load_ext watermark\n"
   ]
  },
  {
   "cell_type": "code",
   "execution_count": 2,
   "metadata": {
    "execution": {
     "iopub.execute_input": "2025-03-24T21:39:18.194399Z",
     "iopub.status.busy": "2025-03-24T21:39:18.194078Z",
     "iopub.status.idle": "2025-03-24T21:39:21.293885Z",
     "shell.execute_reply": "2025-03-24T21:39:21.293178Z"
    }
   },
   "outputs": [],
   "source": [
    "import itertools as it\n",
    "import os\n",
    "\n",
    "import torch\n",
    "\n",
    "from pylib.auxlib._log_context_duration import log_context_duration\n",
    "from pylib.auxlib._make_reproducible import make_reproducible\n",
    "from pylib.difflenia._VideoWriter import VideoWriter\n",
    "from pylib.difflenia._generate_observations import generate_observations\n",
    "\n",
    "make_reproducible()\n",
    "torch.set_default_tensor_type(\"torch.FloatTensor\")\n"
   ]
  },
  {
   "cell_type": "code",
   "execution_count": 3,
   "metadata": {
    "execution": {
     "iopub.execute_input": "2025-03-24T21:39:21.296509Z",
     "iopub.status.busy": "2025-03-24T21:39:21.295938Z",
     "iopub.status.idle": "2025-03-24T21:39:21.304616Z",
     "shell.execute_reply": "2025-03-24T21:39:21.304044Z"
    }
   },
   "outputs": [
    {
     "name": "stdout",
     "output_type": "stream",
     "text": [
      "Last updated: 2025-03-24T21:39:21.297571+00:00\n",
      "\n",
      "Python implementation: CPython\n",
      "Python version       : 3.10.12\n",
      "IPython version      : 7.31.1\n",
      "\n",
      "Compiler    : GCC 11.4.0\n",
      "OS          : Linux\n",
      "Release     : 6.8.0-1021-azure\n",
      "Machine     : x86_64\n",
      "Processor   : x86_64\n",
      "CPU cores   : 4\n",
      "Architecture: 64bit\n",
      "\n",
      "torch: 2.0.1\n",
      "\n",
      "Watermark: 2.4.3\n",
      "\n"
     ]
    }
   ],
   "source": [
    "%watermark -diwmuv -iv\n"
   ]
  },
  {
   "cell_type": "code",
   "execution_count": 4,
   "metadata": {
    "execution": {
     "iopub.execute_input": "2025-03-24T21:39:21.331447Z",
     "iopub.status.busy": "2025-03-24T21:39:21.331086Z",
     "iopub.status.idle": "2025-03-24T21:39:24.217435Z",
     "shell.execute_reply": "2025-03-24T21:39:24.216702Z"
    }
   },
   "outputs": [
    {
     "name": "stdout",
     "output_type": "stream",
     "text": [
      "--2025-03-24 21:39:21--  https://osf.io/tqxhu/download\r\n",
      "Resolving osf.io (osf.io)... 35.190.84.173\r\n",
      "Connecting to osf.io (osf.io)|35.190.84.173|:443... connected.\r\n",
      "HTTP request sent, awaiting response... 302 FOUND\r\n",
      "Location: https://files.osf.io/v1/resources/fj8u6/providers/osfstorage/67dc35d277ab6a0debc6ff94?action=download&direct&version=1 [following]\r\n",
      "--2025-03-24 21:39:21--  https://files.osf.io/v1/resources/fj8u6/providers/osfstorage/67dc35d277ab6a0debc6ff94?action=download&direct&version=1\r\n",
      "Resolving files.osf.io (files.osf.io)... 35.186.214.196\r\n",
      "Connecting to files.osf.io (files.osf.io)|35.186.214.196|:443... connected.\r\n",
      "HTTP request sent, awaiting response... 200 OK\r\n",
      "Length: 12214 (12K) [application/octet-stream]\r\n",
      "Saving to: ‘/tmp/crea1.pickle’\r\n",
      "\r\n",
      "/tmp/crea1.pickle   100%[===================>]  11.93K  --.-KB/s    in 0.001s  \r\n",
      "\r\n",
      "2025-03-24 21:39:22 (14.1 MB/s) - ‘/tmp/crea1.pickle’ saved [12214/12214]\r\n",
      "\r\n",
      "--2025-03-24 21:39:22--  https://osf.io/tqfwk/download\r\n",
      "Resolving osf.io (osf.io)... 35.190.84.173\r\n",
      "Connecting to osf.io (osf.io)|35.190.84.173|:443... connected.\r\n",
      "HTTP request sent, awaiting response... 302 FOUND\r\n",
      "Location: https://files.osf.io/v1/resources/fj8u6/providers/osfstorage/67dc35d476eae4914fc6fa7b?action=download&direct&version=1 [following]\r\n",
      "--2025-03-24 21:39:22--  https://files.osf.io/v1/resources/fj8u6/providers/osfstorage/67dc35d476eae4914fc6fa7b?action=download&direct&version=1\r\n",
      "Resolving files.osf.io (files.osf.io)... 35.186.214.196\r\n",
      "Connecting to files.osf.io (files.osf.io)|35.186.214.196|:443... connected.\r\n",
      "HTTP request sent, awaiting response... 200 OK\r\n",
      "Length: 12022 (12K) [application/octet-stream]\r\n",
      "Saving to: ‘/tmp/crea2.pickle’\r\n",
      "\r\n",
      "/tmp/crea2.pickle   100%[===================>]  11.74K  --.-KB/s    in 0.001s  \r\n",
      "\r\n",
      "2025-03-24 21:39:23 (17.8 MB/s) - ‘/tmp/crea2.pickle’ saved [12022/12022]\r\n",
      "\r\n",
      "--2025-03-24 21:39:23--  https://osf.io/ba536/download\r\n",
      "Resolving osf.io (osf.io)... 35.190.84.173\r\n",
      "Connecting to osf.io (osf.io)|35.190.84.173|:443... connected.\r\n",
      "HTTP request sent, awaiting response... 302 FOUND\r\n",
      "Location: https://files.osf.io/v1/resources/fj8u6/providers/osfstorage/67dc35d177ab6a0debc6ff92?action=download&direct&version=1 [following]\r\n",
      "--2025-03-24 21:39:23--  https://files.osf.io/v1/resources/fj8u6/providers/osfstorage/67dc35d177ab6a0debc6ff92?action=download&direct&version=1\r\n",
      "Resolving files.osf.io (files.osf.io)... 35.186.214.196\r\n",
      "Connecting to files.osf.io (files.osf.io)|35.186.214.196|:443... connected.\r\n",
      "HTTP request sent, awaiting response... 200 OK\r\n",
      "Length: 12022 (12K) [application/octet-stream]\r\n",
      "Saving to: ‘/tmp/crea3.pickle’\r\n",
      "\r\n",
      "/tmp/crea3.pickle   100%[===================>]  11.74K  --.-KB/s    in 0.001s  \r\n",
      "\r\n",
      "2025-03-24 21:39:24 (13.0 MB/s) - ‘/tmp/crea3.pickle’ saved [12022/12022]\r\n",
      "\r\n"
     ]
    }
   ],
   "source": [
    "# 3 examples of discovered creatures (1 channel and 10 rules)\n",
    "\n",
    "!wget  'https://osf.io/tqxhu/download' -O '/tmp/crea1.pickle'\n",
    "!wget  'https://osf.io/tqfwk/download' -O '/tmp/crea2.pickle'\n",
    "!wget  'https://osf.io/ba536/download' -O '/tmp/crea3.pickle'\n"
   ]
  },
  {
   "cell_type": "code",
   "execution_count": 5,
   "metadata": {
    "execution": {
     "iopub.execute_input": "2025-03-24T21:39:24.219936Z",
     "iopub.status.busy": "2025-03-24T21:39:24.219529Z",
     "iopub.status.idle": "2025-03-24T21:39:24.223130Z",
     "shell.execute_reply": "2025-03-24T21:39:24.222680Z"
    }
   },
   "outputs": [],
   "source": [
    "image_counter = it.count()\n",
    "image_subdir = \"out/dev-difflenia\"\n",
    "os.makedirs(image_subdir, exist_ok=True)\n",
    "\n",
    "\n",
    "def make_gif_path():\n",
    "    return f\"{image_subdir}/image_{next(image_counter):04d}.gif\"\n"
   ]
  },
  {
   "cell_type": "code",
   "execution_count": 6,
   "metadata": {
    "execution": {
     "iopub.execute_input": "2025-03-24T21:39:24.225013Z",
     "iopub.status.busy": "2025-03-24T21:39:24.224667Z",
     "iopub.status.idle": "2025-03-24T21:39:24.228239Z",
     "shell.execute_reply": "2025-03-24T21:39:24.227783Z"
    }
   },
   "outputs": [],
   "source": [
    "def show_sample_observations(\n",
    "    SX,\n",
    "    SY,\n",
    "    *,\n",
    "    borders,\n",
    "    device,\n",
    "    mode,\n",
    "    num_frames,\n",
    "    crea_file=\"crea1.pickle\",\n",
    "    fps=30.0,\n",
    "    logger=print,\n",
    "    zoom=1,\n",
    "):\n",
    "\n",
    "    observations = generate_observations(\n",
    "        SX=SX,\n",
    "        SY=SY,\n",
    "        borders=borders,\n",
    "        crea_file=crea_file,\n",
    "        device=device,\n",
    "        mode=mode,\n",
    "        num_frames=num_frames,\n",
    "        zoom=zoom,\n",
    "    )\n",
    "    with log_context_duration(\"Creating video\", logger=logger):\n",
    "        with VideoWriter(make_gif_path(), fps) as vid:\n",
    "            vid.add_observations(observations)\n",
    "            vid.show()\n"
   ]
  },
  {
   "cell_type": "code",
   "execution_count": 7,
   "metadata": {
    "execution": {
     "iopub.execute_input": "2025-03-24T21:39:24.229869Z",
     "iopub.status.busy": "2025-03-24T21:39:24.229696Z",
     "iopub.status.idle": "2025-03-24T21:39:24.232794Z",
     "shell.execute_reply": "2025-03-24T21:39:24.232332Z"
    }
   },
   "outputs": [],
   "source": [
    "SX, SY = 400, 400\n",
    "borders = True\n",
    "device = torch.device([\"cpu\", \"cuda\"][torch.cuda.is_available()])\n",
    "logger = print\n",
    "mode = \"random\"\n",
    "num_frames = 1000\n"
   ]
  },
  {
   "cell_type": "code",
   "execution_count": 8,
   "metadata": {
    "execution": {
     "iopub.execute_input": "2025-03-24T21:39:24.234910Z",
     "iopub.status.busy": "2025-03-24T21:39:24.234415Z",
     "iopub.status.idle": "2025-03-24T21:40:50.789404Z",
     "shell.execute_reply": "2025-03-24T21:40:50.788825Z"
    }
   },
   "outputs": [
    {
     "name": "stderr",
     "output_type": "stream",
     "text": [
      "/home/runner/work/hstrat-agentless-concept/hstrat-agentless-concept/binder/pylib/difflenia/_LeniaStepFFTC.py:126: UserWarning: Casting complex values to real discards the imaginary part (Triggered internally at ../aten/src/ATen/native/Copy.cpp:276.)\n",
      "  self.kernels[i] = kernel_FFT\n"
     ]
    },
    {
     "name": "stdout",
     "output_type": "stream",
     "text": [
      "enter log_context_duration for Running Lenia\n",
      "exit log_context_duration for Running Lenia\n",
      "!!! {\"Running Lenia\": 21.908563137054443}\n",
      "enter log_context_duration for Creating video\n"
     ]
    },
    {
     "data": {
      "text/html": [
       "<img src=\"out/dev-difflenia/image_0000.gif\"/>"
      ],
      "text/plain": [
       "<IPython.core.display.Image object>"
      ]
     },
     "metadata": {},
     "output_type": "display_data"
    },
    {
     "name": "stdout",
     "output_type": "stream",
     "text": [
      "exit log_context_duration for Creating video\n",
      "!!! {\"Creating video\": 23.730754852294922}\n",
      "enter log_context_duration for Running Lenia\n",
      "exit log_context_duration for Running Lenia\n",
      "!!! {\"Running Lenia\": 16.458263874053955}\n",
      "enter log_context_duration for Creating video\n"
     ]
    },
    {
     "data": {
      "text/html": [
       "<img src=\"out/dev-difflenia/image_0001.gif\"/>"
      ],
      "text/plain": [
       "<IPython.core.display.Image object>"
      ]
     },
     "metadata": {},
     "output_type": "display_data"
    },
    {
     "name": "stdout",
     "output_type": "stream",
     "text": [
      "exit log_context_duration for Creating video\n",
      "!!! {\"Creating video\": 24.00471329689026}\n"
     ]
    }
   ],
   "source": [
    "for i in range(2):\n",
    "    show_sample_observations(\n",
    "        SX,\n",
    "        SY,\n",
    "        borders=borders,\n",
    "        crea_file=\"/tmp/crea1.pickle\",\n",
    "        device=device,\n",
    "        logger=logger,\n",
    "        mode=mode,\n",
    "        num_frames=num_frames,\n",
    "        zoom=1,\n",
    "    )\n"
   ]
  },
  {
   "cell_type": "code",
   "execution_count": 9,
   "metadata": {
    "execution": {
     "iopub.execute_input": "2025-03-24T21:40:50.838489Z",
     "iopub.status.busy": "2025-03-24T21:40:50.838078Z",
     "iopub.status.idle": "2025-03-24T21:42:13.488048Z",
     "shell.execute_reply": "2025-03-24T21:42:13.487381Z"
    }
   },
   "outputs": [
    {
     "name": "stdout",
     "output_type": "stream",
     "text": [
      "enter log_context_duration for Running Lenia\n",
      "exit log_context_duration for Running Lenia\n",
      "!!! {\"Running Lenia\": 16.271479606628418}\n",
      "enter log_context_duration for Creating video\n"
     ]
    },
    {
     "data": {
      "text/html": [
       "<img src=\"out/dev-difflenia/image_0002.gif\"/>"
      ],
      "text/plain": [
       "<IPython.core.display.Image object>"
      ]
     },
     "metadata": {},
     "output_type": "display_data"
    },
    {
     "name": "stdout",
     "output_type": "stream",
     "text": [
      "exit log_context_duration for Creating video\n",
      "!!! {\"Creating video\": 24.737797021865845}\n",
      "enter log_context_duration for Running Lenia\n",
      "exit log_context_duration for Running Lenia\n",
      "!!! {\"Running Lenia\": 16.293313026428223}\n",
      "enter log_context_duration for Creating video\n"
     ]
    },
    {
     "data": {
      "text/html": [
       "<img src=\"out/dev-difflenia/image_0003.gif\"/>"
      ],
      "text/plain": [
       "<IPython.core.display.Image object>"
      ]
     },
     "metadata": {},
     "output_type": "display_data"
    },
    {
     "name": "stdout",
     "output_type": "stream",
     "text": [
      "exit log_context_duration for Creating video\n",
      "!!! {\"Creating video\": 24.963380575180054}\n"
     ]
    }
   ],
   "source": [
    "for i in range(2):\n",
    "    show_sample_observations(\n",
    "        SX,\n",
    "        SY,\n",
    "        borders=borders,\n",
    "        crea_file=\"/tmp/crea2.pickle\",\n",
    "        device=device,\n",
    "        logger=logger,\n",
    "        mode=mode,\n",
    "        num_frames=num_frames,\n",
    "        zoom=1,\n",
    "    )\n"
   ]
  }
 ],
 "metadata": {
  "kernelspec": {
   "display_name": ".venv",
   "language": "python",
   "name": "python3"
  },
  "language_info": {
   "codemirror_mode": {
    "name": "ipython",
    "version": 3
   },
   "file_extension": ".py",
   "mimetype": "text/x-python",
   "name": "python",
   "nbconvert_exporter": "python",
   "pygments_lexer": "ipython3",
   "version": "3.10.12"
  }
 },
 "nbformat": 4,
 "nbformat_minor": 2
}
