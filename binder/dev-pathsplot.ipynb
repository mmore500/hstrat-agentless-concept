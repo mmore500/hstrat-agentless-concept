{
 "cells": [
  {
   "cell_type": "code",
   "execution_count": 1,
   "metadata": {
    "execution": {
     "iopub.execute_input": "2025-03-24T20:58:12.725738Z",
     "iopub.status.busy": "2025-03-24T20:58:12.725294Z",
     "iopub.status.idle": "2025-03-24T20:58:12.738161Z",
     "shell.execute_reply": "2025-03-24T20:58:12.737725Z"
    }
   },
   "outputs": [],
   "source": [
    "%load_ext watermark\n"
   ]
  },
  {
   "cell_type": "code",
   "execution_count": 2,
   "metadata": {
    "execution": {
     "iopub.execute_input": "2025-03-24T20:58:12.739930Z",
     "iopub.status.busy": "2025-03-24T20:58:12.739586Z",
     "iopub.status.idle": "2025-03-24T20:58:18.279116Z",
     "shell.execute_reply": "2025-03-24T20:58:18.278530Z"
    }
   },
   "outputs": [],
   "source": [
    "import numpy as np\n",
    "\n",
    "from pylib._pathsplot import pathsplot\n"
   ]
  },
  {
   "cell_type": "code",
   "execution_count": 3,
   "metadata": {
    "execution": {
     "iopub.execute_input": "2025-03-24T20:58:18.281484Z",
     "iopub.status.busy": "2025-03-24T20:58:18.281017Z",
     "iopub.status.idle": "2025-03-24T20:58:18.295134Z",
     "shell.execute_reply": "2025-03-24T20:58:18.294582Z"
    }
   },
   "outputs": [
    {
     "name": "stdout",
     "output_type": "stream",
     "text": [
      "Last updated: 2025-03-24T20:58:18.282530+00:00\n",
      "\n",
      "Python implementation: CPython\n",
      "Python version       : 3.10.12\n",
      "IPython version      : 7.31.1\n",
      "\n",
      "Compiler    : GCC 11.4.0\n",
      "OS          : Linux\n",
      "Release     : 6.8.0-1021-azure\n",
      "Machine     : x86_64\n",
      "Processor   : x86_64\n",
      "CPU cores   : 4\n",
      "Architecture: 64bit\n",
      "\n",
      "numpy: 1.23.5\n",
      "\n",
      "Watermark: 2.4.3\n",
      "\n"
     ]
    }
   ],
   "source": [
    "%watermark -diwmuv -iv\n"
   ]
  },
  {
   "cell_type": "markdown",
   "metadata": {},
   "source": [
    "## Prep Data\n"
   ]
  },
  {
   "cell_type": "code",
   "execution_count": 4,
   "metadata": {
    "execution": {
     "iopub.execute_input": "2025-03-24T20:58:18.322395Z",
     "iopub.status.busy": "2025-03-24T20:58:18.321905Z",
     "iopub.status.idle": "2025-03-24T20:58:18.325029Z",
     "shell.execute_reply": "2025-03-24T20:58:18.324472Z"
    }
   },
   "outputs": [],
   "source": [
    "path = [*zip(*np.random.normal(size=(2, 100)).cumsum(axis=1))]\n"
   ]
  },
  {
   "cell_type": "markdown",
   "metadata": {},
   "source": [
    "## Example Plot\n"
   ]
  },
  {
   "cell_type": "code",
   "execution_count": 5,
   "metadata": {
    "execution": {
     "iopub.execute_input": "2025-03-24T20:58:18.326806Z",
     "iopub.status.busy": "2025-03-24T20:58:18.326634Z",
     "iopub.status.idle": "2025-03-24T20:58:18.908574Z",
     "shell.execute_reply": "2025-03-24T20:58:18.907923Z"
    }
   },
   "outputs": [
    {
     "data": {
      "text/plain": [
       "<seaborn.axisgrid.FacetGrid at 0x7f9bc92bad70>"
      ]
     },
     "execution_count": 5,
     "metadata": {},
     "output_type": "execute_result"
    },
    {
     "data": {
      "image/png": "[encoded data removed]",
      "text/plain": [
       "<Figure size 217.625x150 with 1 Axes>"
      ]
     },
     "metadata": {},
     "output_type": "display_data"
    }
   ],
   "source": [
    "pathsplot([path])\n"
   ]
  },
  {
   "cell_type": "code",
   "execution_count": 6,
   "metadata": {
    "execution": {
     "iopub.execute_input": "2025-03-24T20:58:18.910631Z",
     "iopub.status.busy": "2025-03-24T20:58:18.910231Z",
     "iopub.status.idle": "2025-03-24T20:58:19.735190Z",
     "shell.execute_reply": "2025-03-24T20:58:19.734662Z"
    }
   },
   "outputs": [
    {
     "data": {
      "text/plain": [
       "<seaborn.axisgrid.FacetGrid at 0x7f9bb040fe80>"
      ]
     },
     "execution_count": 6,
     "metadata": {},
     "output_type": "execute_result"
    },
    {
     "data": {
      "image/png": "[encoded data removed]",
      "text/plain": [
       "<Figure size 367.625x150 with 2 Axes>"
      ]
     },
     "metadata": {},
     "output_type": "display_data"
    }
   ],
   "source": [
    "pathsplot([path, path])\n"
   ]
  }
 ],
 "metadata": {
  "kernelspec": {
   "display_name": "myenv",
   "language": "python",
   "name": "python3"
  },
  "language_info": {
   "codemirror_mode": {
    "name": "ipython",
    "version": 3
   },
   "file_extension": ".py",
   "mimetype": "text/x-python",
   "name": "python",
   "nbconvert_exporter": "python",
   "pygments_lexer": "ipython3",
   "version": "3.10.12"
  }
 },
 "nbformat": 4,
 "nbformat_minor": 2
}
