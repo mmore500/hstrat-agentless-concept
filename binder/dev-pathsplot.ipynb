{
 "cells": [
  {
   "cell_type": "code",
   "execution_count": 1,
   "metadata": {
    "execution": {
     "iopub.execute_input": "2025-03-25T01:08:28.418071Z",
     "iopub.status.busy": "2025-03-25T01:08:28.417868Z",
     "iopub.status.idle": "2025-03-25T01:08:28.431543Z",
     "shell.execute_reply": "2025-03-25T01:08:28.430967Z"
    }
   },
   "outputs": [],
   "source": [
    "%load_ext watermark\n"
   ]
  },
  {
   "cell_type": "code",
   "execution_count": 2,
   "metadata": {
    "execution": {
     "iopub.execute_input": "2025-03-25T01:08:28.433308Z",
     "iopub.status.busy": "2025-03-25T01:08:28.433130Z",
     "iopub.status.idle": "2025-03-25T01:08:35.204689Z",
     "shell.execute_reply": "2025-03-25T01:08:35.204093Z"
    }
   },
   "outputs": [],
   "source": [
    "import numpy as np\n",
    "\n",
    "from pylib._pathsplot import pathsplot\n"
   ]
  },
  {
   "cell_type": "code",
   "execution_count": 3,
   "metadata": {
    "execution": {
     "iopub.execute_input": "2025-03-25T01:08:35.207015Z",
     "iopub.status.busy": "2025-03-25T01:08:35.206574Z",
     "iopub.status.idle": "2025-03-25T01:08:35.375917Z",
     "shell.execute_reply": "2025-03-25T01:08:35.375324Z"
    }
   },
   "outputs": [
    {
     "name": "stdout",
     "output_type": "stream",
     "text": [
      "Last updated: 2025-03-25T01:08:35.208099+00:00\n",
      "\n",
      "Python implementation: CPython\n",
      "Python version       : 3.10.12\n",
      "IPython version      : 7.31.1\n",
      "\n",
      "Compiler    : GCC 11.4.0\n",
      "OS          : Linux\n",
      "Release     : 6.8.0-1021-azure\n",
      "Machine     : x86_64\n",
      "Processor   : x86_64\n",
      "CPU cores   : 4\n",
      "Architecture: 64bit\n",
      "\n",
      "numpy: 1.23.5\n",
      "\n",
      "Watermark: 2.4.3\n",
      "\n"
     ]
    }
   ],
   "source": [
    "%watermark -diwmuv -iv\n"
   ]
  },
  {
   "cell_type": "markdown",
   "metadata": {},
   "source": [
    "## Prep Data\n"
   ]
  },
  {
   "cell_type": "code",
   "execution_count": 4,
   "metadata": {
    "execution": {
     "iopub.execute_input": "2025-03-25T01:08:35.403041Z",
     "iopub.status.busy": "2025-03-25T01:08:35.402787Z",
     "iopub.status.idle": "2025-03-25T01:08:35.406191Z",
     "shell.execute_reply": "2025-03-25T01:08:35.405599Z"
    }
   },
   "outputs": [],
   "source": [
    "path = [*zip(*np.random.normal(size=(2, 100)).cumsum(axis=1))]\n"
   ]
  },
  {
   "cell_type": "markdown",
   "metadata": {},
   "source": [
    "## Example Plot\n"
   ]
  },
  {
   "cell_type": "code",
   "execution_count": 5,
   "metadata": {
    "execution": {
     "iopub.execute_input": "2025-03-25T01:08:35.407935Z",
     "iopub.status.busy": "2025-03-25T01:08:35.407739Z",
     "iopub.status.idle": "2025-03-25T01:08:35.952417Z",
     "shell.execute_reply": "2025-03-25T01:08:35.951805Z"
    }
   },
   "outputs": [
    {
     "data": {
      "text/plain": [
       "<seaborn.axisgrid.FacetGrid at 0x7f6694744e80>"
      ]
     },
     "execution_count": 5,
     "metadata": {},
     "output_type": "execute_result"
    },
    {
     "data": {
      "image/png": "[encoded data removed]",
      "text/plain": [
       "<Figure size 217.625x150 with 1 Axes>"
      ]
     },
     "metadata": {},
     "output_type": "display_data"
    }
   ],
   "source": [
    "pathsplot([path])\n"
   ]
  },
  {
   "cell_type": "code",
   "execution_count": 6,
   "metadata": {
    "execution": {
     "iopub.execute_input": "2025-03-25T01:08:35.954472Z",
     "iopub.status.busy": "2025-03-25T01:08:35.954101Z",
     "iopub.status.idle": "2025-03-25T01:08:36.818579Z",
     "shell.execute_reply": "2025-03-25T01:08:36.817942Z"
    }
   },
   "outputs": [
    {
     "data": {
      "text/plain": [
       "<seaborn.axisgrid.FacetGrid at 0x7f66944c09a0>"
      ]
     },
     "execution_count": 6,
     "metadata": {},
     "output_type": "execute_result"
    },
    {
     "data": {
      "image/png": "[encoded data removed]",
      "text/plain": [
       "<Figure size 367.625x150 with 2 Axes>"
      ]
     },
     "metadata": {},
     "output_type": "display_data"
    }
   ],
   "source": [
    "pathsplot([path, path])\n"
   ]
  }
 ],
 "metadata": {
  "kernelspec": {
   "display_name": "myenv",
   "language": "python",
   "name": "python3"
  },
  "language_info": {
   "codemirror_mode": {
    "name": "ipython",
    "version": 3
   },
   "file_extension": ".py",
   "mimetype": "text/x-python",
   "name": "python",
   "nbconvert_exporter": "python",
   "pygments_lexer": "ipython3",
   "version": "3.10.12"
  }
 },
 "nbformat": 4,
 "nbformat_minor": 2
}
