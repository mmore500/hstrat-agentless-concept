{
 "cells": [
  {
   "cell_type": "code",
   "execution_count": 1,
   "metadata": {
    "execution": {
     "iopub.execute_input": "2025-03-24T21:12:25.419259Z",
     "iopub.status.busy": "2025-03-24T21:12:25.418814Z",
     "iopub.status.idle": "2025-03-24T21:12:25.433406Z",
     "shell.execute_reply": "2025-03-24T21:12:25.432853Z"
    }
   },
   "outputs": [],
   "source": [
    "%load_ext watermark\n"
   ]
  },
  {
   "cell_type": "code",
   "execution_count": 2,
   "metadata": {
    "execution": {
     "iopub.execute_input": "2025-03-24T21:12:25.435954Z",
     "iopub.status.busy": "2025-03-24T21:12:25.435570Z",
     "iopub.status.idle": "2025-03-24T21:12:29.521347Z",
     "shell.execute_reply": "2025-03-24T21:12:29.520786Z"
    }
   },
   "outputs": [],
   "source": [
    "import itertools as it\n",
    "import os\n",
    "\n",
    "import numpy as np\n",
    "\n",
    "from pylib.auxlib._log_context_duration import log_context_duration\n",
    "from pylib.auxlib._make_reproducible import make_reproducible\n",
    "from pylib.synthgeom._VideoWriter import VideoWriter\n",
    "from pylib.synthgeom._generate_observations import generate_observations\n",
    "\n",
    "make_reproducible()\n"
   ]
  },
  {
   "cell_type": "code",
   "execution_count": 3,
   "metadata": {
    "execution": {
     "iopub.execute_input": "2025-03-24T21:12:29.523590Z",
     "iopub.status.busy": "2025-03-24T21:12:29.523350Z",
     "iopub.status.idle": "2025-03-24T21:12:29.642757Z",
     "shell.execute_reply": "2025-03-24T21:12:29.642103Z"
    }
   },
   "outputs": [
    {
     "name": "stdout",
     "output_type": "stream",
     "text": [
      "Last updated: 2025-03-24T21:12:29.524627+00:00\n",
      "\n",
      "Python implementation: CPython\n",
      "Python version       : 3.10.12\n",
      "IPython version      : 7.31.1\n",
      "\n",
      "Compiler    : GCC 11.4.0\n",
      "OS          : Linux\n",
      "Release     : 6.8.0-1021-azure\n",
      "Machine     : x86_64\n",
      "Processor   : x86_64\n",
      "CPU cores   : 4\n",
      "Architecture: 64bit\n",
      "\n",
      "numpy: 1.23.5\n",
      "\n",
      "Watermark: 2.4.3\n",
      "\n"
     ]
    }
   ],
   "source": [
    "%watermark -diwmuv -iv\n"
   ]
  },
  {
   "cell_type": "code",
   "execution_count": 4,
   "metadata": {
    "execution": {
     "iopub.execute_input": "2025-03-24T21:12:29.671352Z",
     "iopub.status.busy": "2025-03-24T21:12:29.671037Z",
     "iopub.status.idle": "2025-03-24T21:12:29.674150Z",
     "shell.execute_reply": "2025-03-24T21:12:29.673631Z"
    }
   },
   "outputs": [],
   "source": [
    "SX, SY = 400, 400\n",
    "crea_func = np.ones\n",
    "crea_size = 10\n"
   ]
  },
  {
   "cell_type": "code",
   "execution_count": 5,
   "metadata": {
    "execution": {
     "iopub.execute_input": "2025-03-24T21:12:29.676016Z",
     "iopub.status.busy": "2025-03-24T21:12:29.675830Z",
     "iopub.status.idle": "2025-03-24T21:12:29.679210Z",
     "shell.execute_reply": "2025-03-24T21:12:29.678712Z"
    }
   },
   "outputs": [],
   "source": [
    "image_counter = it.count()\n",
    "image_subdir = \"out/dev-synthgeom\"\n",
    "os.makedirs(image_subdir, exist_ok=True)\n",
    "\n",
    "\n",
    "def make_gif_path():\n",
    "    return f\"{image_subdir}/image_{next(image_counter):04d}.gif\"\n"
   ]
  },
  {
   "cell_type": "code",
   "execution_count": 6,
   "metadata": {
    "execution": {
     "iopub.execute_input": "2025-03-24T21:12:29.680985Z",
     "iopub.status.busy": "2025-03-24T21:12:29.680802Z",
     "iopub.status.idle": "2025-03-24T21:12:29.684577Z",
     "shell.execute_reply": "2025-03-24T21:12:29.684101Z"
    }
   },
   "outputs": [],
   "source": [
    "def show_sample_observations(\n",
    "    SX,\n",
    "    SY,\n",
    "    *,\n",
    "    crea_func,\n",
    "    crea_size=10,\n",
    "    fps=30.0,\n",
    "    logger=print,\n",
    "    mirror_backtrack=False,\n",
    "    num_frames=1000,\n",
    "):\n",
    "\n",
    "    observations = generate_observations(\n",
    "        SX=SX,\n",
    "        SY=SY,\n",
    "        crea_func=crea_func,\n",
    "        crea_size=crea_size,\n",
    "        mirror_backtrack=mirror_backtrack,\n",
    "        num_frames=num_frames,\n",
    "    )\n",
    "    with log_context_duration(\"Creating video\", logger=logger):\n",
    "        with VideoWriter(make_gif_path(), fps) as vid:\n",
    "            vid.add_observations(observations)\n",
    "            vid.show()\n"
   ]
  },
  {
   "cell_type": "code",
   "execution_count": 7,
   "metadata": {
    "execution": {
     "iopub.execute_input": "2025-03-24T21:12:29.686496Z",
     "iopub.status.busy": "2025-03-24T21:12:29.686139Z",
     "iopub.status.idle": "2025-03-24T21:12:53.101183Z",
     "shell.execute_reply": "2025-03-24T21:12:53.100592Z"
    }
   },
   "outputs": [
    {
     "name": "stdout",
     "output_type": "stream",
     "text": [
      "enter log_context_duration for Creating video\n"
     ]
    },
    {
     "name": "stderr",
     "output_type": "stream",
     "text": [
      "gifsicle: warning: trivial adaptive palette (only 2 colors in source)\n"
     ]
    },
    {
     "data": {
      "text/html": [
       "<img src=\"out/dev-synthgeom/image_0000.gif\"/>"
      ],
      "text/plain": [
       "<IPython.core.display.Image object>"
      ]
     },
     "metadata": {},
     "output_type": "display_data"
    },
    {
     "name": "stdout",
     "output_type": "stream",
     "text": [
      "exit log_context_duration for Creating video\n",
      "!!! {\"Creating video\": 23.325570821762085}\n"
     ]
    }
   ],
   "source": [
    "show_sample_observations(\n",
    "    SX,\n",
    "    SY,\n",
    "    crea_func=np.ones,\n",
    ")\n"
   ]
  },
  {
   "cell_type": "code",
   "execution_count": 8,
   "metadata": {
    "execution": {
     "iopub.execute_input": "2025-03-24T21:12:53.103705Z",
     "iopub.status.busy": "2025-03-24T21:12:53.103309Z",
     "iopub.status.idle": "2025-03-24T21:13:14.268574Z",
     "shell.execute_reply": "2025-03-24T21:13:14.267894Z"
    }
   },
   "outputs": [
    {
     "name": "stdout",
     "output_type": "stream",
     "text": [
      "enter log_context_duration for Creating video\n"
     ]
    },
    {
     "name": "stderr",
     "output_type": "stream",
     "text": [
      "gifsicle: warning: trivial adaptive palette (only 2 colors in source)\n"
     ]
    },
    {
     "data": {
      "text/html": [
       "<img src=\"out/dev-synthgeom/image_0001.gif\"/>"
      ],
      "text/plain": [
       "<IPython.core.display.Image object>"
      ]
     },
     "metadata": {},
     "output_type": "display_data"
    },
    {
     "name": "stdout",
     "output_type": "stream",
     "text": [
      "exit log_context_duration for Creating video\n",
      "!!! {\"Creating video\": 20.606382369995117}\n"
     ]
    }
   ],
   "source": [
    "show_sample_observations(\n",
    "    SX,\n",
    "    SY,\n",
    "    crea_func=np.ones,\n",
    "    mirror_backtrack=True,\n",
    ")\n"
   ]
  },
  {
   "cell_type": "code",
   "execution_count": 9,
   "metadata": {
    "execution": {
     "iopub.execute_input": "2025-03-24T21:13:14.270592Z",
     "iopub.status.busy": "2025-03-24T21:13:14.270218Z",
     "iopub.status.idle": "2025-03-24T21:14:04.082547Z",
     "shell.execute_reply": "2025-03-24T21:14:04.081851Z"
    }
   },
   "outputs": [
    {
     "name": "stdout",
     "output_type": "stream",
     "text": [
      "enter log_context_duration for Creating video\n"
     ]
    },
    {
     "name": "stderr",
     "output_type": "stream",
     "text": [
      "gifsicle: warning: trivial adaptive palette (only 224 colors in source)\n"
     ]
    },
    {
     "data": {
      "text/html": [
       "<img src=\"out/dev-synthgeom/image_0002.gif\"/>"
      ],
      "text/plain": [
       "<IPython.core.display.Image object>"
      ]
     },
     "metadata": {},
     "output_type": "display_data"
    },
    {
     "name": "stdout",
     "output_type": "stream",
     "text": [
      "exit log_context_duration for Creating video\n",
      "!!! {\"Creating video\": 24.776596784591675}\n",
      "enter log_context_duration for Creating video\n"
     ]
    },
    {
     "name": "stderr",
     "output_type": "stream",
     "text": [
      "gifsicle: warning: trivial adaptive palette (only 226 colors in source)\n"
     ]
    },
    {
     "data": {
      "text/html": [
       "<img src=\"out/dev-synthgeom/image_0003.gif\"/>"
      ],
      "text/plain": [
       "<IPython.core.display.Image object>"
      ]
     },
     "metadata": {},
     "output_type": "display_data"
    },
    {
     "name": "stdout",
     "output_type": "stream",
     "text": [
      "exit log_context_duration for Creating video\n",
      "!!! {\"Creating video\": 24.860719442367554}\n"
     ]
    }
   ],
   "source": [
    "for i in range(2):\n",
    "    show_sample_observations(\n",
    "        SX,\n",
    "        SY,\n",
    "        crea_func=lambda x: np.random.rand(*x),\n",
    "    )\n"
   ]
  },
  {
   "cell_type": "code",
   "execution_count": 10,
   "metadata": {
    "execution": {
     "iopub.execute_input": "2025-03-24T21:14:04.084615Z",
     "iopub.status.busy": "2025-03-24T21:14:04.084243Z",
     "iopub.status.idle": "2025-03-24T21:14:57.366135Z",
     "shell.execute_reply": "2025-03-24T21:14:57.365525Z"
    }
   },
   "outputs": [
    {
     "name": "stdout",
     "output_type": "stream",
     "text": [
      "enter log_context_duration for Creating video\n"
     ]
    },
    {
     "name": "stderr",
     "output_type": "stream",
     "text": [
      "gifsicle: warning: trivial adaptive palette (only 226 colors in source)\n"
     ]
    },
    {
     "data": {
      "text/html": [
       "<img src=\"out/dev-synthgeom/image_0004.gif\"/>"
      ],
      "text/plain": [
       "<IPython.core.display.Image object>"
      ]
     },
     "metadata": {},
     "output_type": "display_data"
    },
    {
     "name": "stdout",
     "output_type": "stream",
     "text": [
      "exit log_context_duration for Creating video\n",
      "!!! {\"Creating video\": 26.44880485534668}\n",
      "enter log_context_duration for Creating video\n"
     ]
    },
    {
     "name": "stderr",
     "output_type": "stream",
     "text": [
      "gifsicle: warning: trivial adaptive palette (only 224 colors in source)\n"
     ]
    },
    {
     "data": {
      "text/html": [
       "<img src=\"out/dev-synthgeom/image_0005.gif\"/>"
      ],
      "text/plain": [
       "<IPython.core.display.Image object>"
      ]
     },
     "metadata": {},
     "output_type": "display_data"
    },
    {
     "name": "stdout",
     "output_type": "stream",
     "text": [
      "exit log_context_duration for Creating video\n",
      "!!! {\"Creating video\": 26.440097332000732}\n"
     ]
    }
   ],
   "source": [
    "for i in range(2):\n",
    "    show_sample_observations(\n",
    "        SX,\n",
    "        SY,\n",
    "        crea_func=lambda x: np.random.rand(*x),\n",
    "        mirror_backtrack=True,\n",
    "    )\n"
   ]
  }
 ],
 "metadata": {
  "kernelspec": {
   "display_name": "env",
   "language": "python",
   "name": "python3"
  },
  "language_info": {
   "codemirror_mode": {
    "name": "ipython",
    "version": 3
   },
   "file_extension": ".py",
   "mimetype": "text/x-python",
   "name": "python",
   "nbconvert_exporter": "python",
   "pygments_lexer": "ipython3",
   "version": "3.10.12"
  }
 },
 "nbformat": 4,
 "nbformat_minor": 2
}
