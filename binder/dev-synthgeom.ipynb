{
 "cells": [
  {
   "cell_type": "code",
   "execution_count": 1,
   "metadata": {
    "execution": {
     "iopub.execute_input": "2025-03-24T21:51:26.428313Z",
     "iopub.status.busy": "2025-03-24T21:51:26.428142Z",
     "iopub.status.idle": "2025-03-24T21:51:26.440873Z",
     "shell.execute_reply": "2025-03-24T21:51:26.440423Z"
    }
   },
   "outputs": [],
   "source": [
    "%load_ext watermark\n"
   ]
  },
  {
   "cell_type": "code",
   "execution_count": 2,
   "metadata": {
    "execution": {
     "iopub.execute_input": "2025-03-24T21:51:26.442710Z",
     "iopub.status.busy": "2025-03-24T21:51:26.442379Z",
     "iopub.status.idle": "2025-03-24T21:51:29.438913Z",
     "shell.execute_reply": "2025-03-24T21:51:29.438234Z"
    }
   },
   "outputs": [],
   "source": [
    "import itertools as it\n",
    "import os\n",
    "\n",
    "import numpy as np\n",
    "\n",
    "from pylib.auxlib._log_context_duration import log_context_duration\n",
    "from pylib.auxlib._make_reproducible import make_reproducible\n",
    "from pylib.synthgeom._VideoWriter import VideoWriter\n",
    "from pylib.synthgeom._generate_observations import generate_observations\n",
    "\n",
    "make_reproducible()\n"
   ]
  },
  {
   "cell_type": "code",
   "execution_count": 3,
   "metadata": {
    "execution": {
     "iopub.execute_input": "2025-03-24T21:51:29.441217Z",
     "iopub.status.busy": "2025-03-24T21:51:29.440983Z",
     "iopub.status.idle": "2025-03-24T21:51:29.448549Z",
     "shell.execute_reply": "2025-03-24T21:51:29.447969Z"
    }
   },
   "outputs": [
    {
     "name": "stdout",
     "output_type": "stream",
     "text": [
      "Last updated: 2025-03-24T21:51:29.442195+00:00\n",
      "\n",
      "Python implementation: CPython\n",
      "Python version       : 3.10.12\n",
      "IPython version      : 7.31.1\n",
      "\n",
      "Compiler    : GCC 11.4.0\n",
      "OS          : Linux\n",
      "Release     : 6.8.0-1021-azure\n",
      "Machine     : x86_64\n",
      "Processor   : x86_64\n",
      "CPU cores   : 4\n",
      "Architecture: 64bit\n",
      "\n",
      "numpy: 1.23.5\n",
      "\n",
      "Watermark: 2.4.3\n",
      "\n"
     ]
    }
   ],
   "source": [
    "%watermark -diwmuv -iv\n"
   ]
  },
  {
   "cell_type": "code",
   "execution_count": 4,
   "metadata": {
    "execution": {
     "iopub.execute_input": "2025-03-24T21:51:29.474999Z",
     "iopub.status.busy": "2025-03-24T21:51:29.474795Z",
     "iopub.status.idle": "2025-03-24T21:51:29.477448Z",
     "shell.execute_reply": "2025-03-24T21:51:29.476974Z"
    }
   },
   "outputs": [],
   "source": [
    "SX, SY = 400, 400\n",
    "crea_func = np.ones\n",
    "crea_size = 10\n"
   ]
  },
  {
   "cell_type": "code",
   "execution_count": 5,
   "metadata": {
    "execution": {
     "iopub.execute_input": "2025-03-24T21:51:29.479277Z",
     "iopub.status.busy": "2025-03-24T21:51:29.478906Z",
     "iopub.status.idle": "2025-03-24T21:51:29.482120Z",
     "shell.execute_reply": "2025-03-24T21:51:29.481521Z"
    }
   },
   "outputs": [],
   "source": [
    "image_counter = it.count()\n",
    "image_subdir = \"out/dev-synthgeom\"\n",
    "os.makedirs(image_subdir, exist_ok=True)\n",
    "\n",
    "\n",
    "def make_gif_path():\n",
    "    return f\"{image_subdir}/image_{next(image_counter):04d}.gif\"\n"
   ]
  },
  {
   "cell_type": "code",
   "execution_count": 6,
   "metadata": {
    "execution": {
     "iopub.execute_input": "2025-03-24T21:51:29.483803Z",
     "iopub.status.busy": "2025-03-24T21:51:29.483623Z",
     "iopub.status.idle": "2025-03-24T21:51:29.487521Z",
     "shell.execute_reply": "2025-03-24T21:51:29.486919Z"
    }
   },
   "outputs": [],
   "source": [
    "def show_sample_observations(\n",
    "    SX,\n",
    "    SY,\n",
    "    *,\n",
    "    crea_func,\n",
    "    crea_size=10,\n",
    "    fps=30.0,\n",
    "    logger=print,\n",
    "    mirror_backtrack=False,\n",
    "    num_frames=1000,\n",
    "):\n",
    "\n",
    "    observations = generate_observations(\n",
    "        SX=SX,\n",
    "        SY=SY,\n",
    "        crea_func=crea_func,\n",
    "        crea_size=crea_size,\n",
    "        mirror_backtrack=mirror_backtrack,\n",
    "        num_frames=num_frames,\n",
    "    )\n",
    "    with log_context_duration(\"Creating video\", logger=logger):\n",
    "        with VideoWriter(make_gif_path(), fps) as vid:\n",
    "            vid.add_observations(observations)\n",
    "            vid.show()\n"
   ]
  },
  {
   "cell_type": "code",
   "execution_count": 7,
   "metadata": {
    "execution": {
     "iopub.execute_input": "2025-03-24T21:51:29.489338Z",
     "iopub.status.busy": "2025-03-24T21:51:29.488995Z",
     "iopub.status.idle": "2025-03-24T21:51:51.596437Z",
     "shell.execute_reply": "2025-03-24T21:51:51.595789Z"
    }
   },
   "outputs": [
    {
     "name": "stdout",
     "output_type": "stream",
     "text": [
      "enter log_context_duration for Creating video\n"
     ]
    },
    {
     "name": "stderr",
     "output_type": "stream",
     "text": [
      "gifsicle: warning: trivial adaptive palette (only 2 colors in source)\n"
     ]
    },
    {
     "data": {
      "text/html": [
       "<img src=\"out/dev-synthgeom/image_0000.gif\"/>"
      ],
      "text/plain": [
       "<IPython.core.display.Image object>"
      ]
     },
     "metadata": {},
     "output_type": "display_data"
    },
    {
     "name": "stdout",
     "output_type": "stream",
     "text": [
      "exit log_context_duration for Creating video\n",
      "!!! {\"Creating video\": 22.01599407196045}\n"
     ]
    }
   ],
   "source": [
    "show_sample_observations(\n",
    "    SX,\n",
    "    SY,\n",
    "    crea_func=np.ones,\n",
    ")\n"
   ]
  },
  {
   "cell_type": "code",
   "execution_count": 8,
   "metadata": {
    "execution": {
     "iopub.execute_input": "2025-03-24T21:51:51.598697Z",
     "iopub.status.busy": "2025-03-24T21:51:51.598283Z",
     "iopub.status.idle": "2025-03-24T21:52:11.272897Z",
     "shell.execute_reply": "2025-03-24T21:52:11.272236Z"
    }
   },
   "outputs": [
    {
     "name": "stdout",
     "output_type": "stream",
     "text": [
      "enter log_context_duration for Creating video\n"
     ]
    },
    {
     "name": "stderr",
     "output_type": "stream",
     "text": [
      "gifsicle: warning: trivial adaptive palette (only 2 colors in source)\n"
     ]
    },
    {
     "data": {
      "text/html": [
       "<img src=\"out/dev-synthgeom/image_0001.gif\"/>"
      ],
      "text/plain": [
       "<IPython.core.display.Image object>"
      ]
     },
     "metadata": {},
     "output_type": "display_data"
    },
    {
     "name": "stdout",
     "output_type": "stream",
     "text": [
      "exit log_context_duration for Creating video\n",
      "!!! {\"Creating video\": 18.983963012695312}\n"
     ]
    }
   ],
   "source": [
    "show_sample_observations(\n",
    "    SX,\n",
    "    SY,\n",
    "    crea_func=np.ones,\n",
    "    mirror_backtrack=True,\n",
    ")\n"
   ]
  },
  {
   "cell_type": "code",
   "execution_count": 9,
   "metadata": {
    "execution": {
     "iopub.execute_input": "2025-03-24T21:52:11.274970Z",
     "iopub.status.busy": "2025-03-24T21:52:11.274510Z",
     "iopub.status.idle": "2025-03-24T21:52:59.281421Z",
     "shell.execute_reply": "2025-03-24T21:52:59.280851Z"
    }
   },
   "outputs": [
    {
     "name": "stdout",
     "output_type": "stream",
     "text": [
      "enter log_context_duration for Creating video\n"
     ]
    },
    {
     "name": "stderr",
     "output_type": "stream",
     "text": [
      "gifsicle: warning: trivial adaptive palette (only 224 colors in source)\n"
     ]
    },
    {
     "data": {
      "text/html": [
       "<img src=\"out/dev-synthgeom/image_0002.gif\"/>"
      ],
      "text/plain": [
       "<IPython.core.display.Image object>"
      ]
     },
     "metadata": {},
     "output_type": "display_data"
    },
    {
     "name": "stdout",
     "output_type": "stream",
     "text": [
      "exit log_context_duration for Creating video\n",
      "!!! {\"Creating video\": 23.289407968521118}\n",
      "enter log_context_duration for Creating video\n"
     ]
    },
    {
     "name": "stderr",
     "output_type": "stream",
     "text": [
      "gifsicle: warning: trivial adaptive palette (only 226 colors in source)\n"
     ]
    },
    {
     "data": {
      "text/html": [
       "<img src=\"out/dev-synthgeom/image_0003.gif\"/>"
      ],
      "text/plain": [
       "<IPython.core.display.Image object>"
      ]
     },
     "metadata": {},
     "output_type": "display_data"
    },
    {
     "name": "stdout",
     "output_type": "stream",
     "text": [
      "exit log_context_duration for Creating video\n",
      "!!! {\"Creating video\": 24.545192003250122}\n"
     ]
    }
   ],
   "source": [
    "for i in range(2):\n",
    "    show_sample_observations(\n",
    "        SX,\n",
    "        SY,\n",
    "        crea_func=lambda x: np.random.rand(*x),\n",
    "    )\n"
   ]
  },
  {
   "cell_type": "code",
   "execution_count": 10,
   "metadata": {
    "execution": {
     "iopub.execute_input": "2025-03-24T21:52:59.283437Z",
     "iopub.status.busy": "2025-03-24T21:52:59.283093Z",
     "iopub.status.idle": "2025-03-24T21:53:49.772261Z",
     "shell.execute_reply": "2025-03-24T21:53:49.771596Z"
    }
   },
   "outputs": [
    {
     "name": "stdout",
     "output_type": "stream",
     "text": [
      "enter log_context_duration for Creating video\n"
     ]
    },
    {
     "name": "stderr",
     "output_type": "stream",
     "text": [
      "gifsicle: warning: trivial adaptive palette (only 226 colors in source)\n"
     ]
    },
    {
     "data": {
      "text/html": [
       "<img src=\"out/dev-synthgeom/image_0004.gif\"/>"
      ],
      "text/plain": [
       "<IPython.core.display.Image object>"
      ]
     },
     "metadata": {},
     "output_type": "display_data"
    },
    {
     "name": "stdout",
     "output_type": "stream",
     "text": [
      "exit log_context_duration for Creating video\n",
      "!!! {\"Creating video\": 25.009838819503784}\n",
      "enter log_context_duration for Creating video\n"
     ]
    },
    {
     "name": "stderr",
     "output_type": "stream",
     "text": [
      "gifsicle: warning: trivial adaptive palette (only 224 colors in source)\n"
     ]
    },
    {
     "data": {
      "text/html": [
       "<img src=\"out/dev-synthgeom/image_0005.gif\"/>"
      ],
      "text/plain": [
       "<IPython.core.display.Image object>"
      ]
     },
     "metadata": {},
     "output_type": "display_data"
    },
    {
     "name": "stdout",
     "output_type": "stream",
     "text": [
      "exit log_context_duration for Creating video\n",
      "!!! {\"Creating video\": 25.098006010055542}\n"
     ]
    }
   ],
   "source": [
    "for i in range(2):\n",
    "    show_sample_observations(\n",
    "        SX,\n",
    "        SY,\n",
    "        crea_func=lambda x: np.random.rand(*x),\n",
    "        mirror_backtrack=True,\n",
    "    )\n"
   ]
  }
 ],
 "metadata": {
  "kernelspec": {
   "display_name": "env",
   "language": "python",
   "name": "python3"
  },
  "language_info": {
   "codemirror_mode": {
    "name": "ipython",
    "version": 3
   },
   "file_extension": ".py",
   "mimetype": "text/x-python",
   "name": "python",
   "nbconvert_exporter": "python",
   "pygments_lexer": "ipython3",
   "version": "3.10.12"
  }
 },
 "nbformat": 4,
 "nbformat_minor": 2
}
