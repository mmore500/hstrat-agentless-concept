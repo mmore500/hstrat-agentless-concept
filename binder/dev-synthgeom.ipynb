{
 "cells": [
  {
   "cell_type": "code",
   "execution_count": 1,
   "metadata": {
    "execution": {
     "iopub.execute_input": "2025-03-24T21:17:33.568091Z",
     "iopub.status.busy": "2025-03-24T21:17:33.567733Z",
     "iopub.status.idle": "2025-03-24T21:17:33.581501Z",
     "shell.execute_reply": "2025-03-24T21:17:33.581009Z"
    }
   },
   "outputs": [],
   "source": [
    "%load_ext watermark\n"
   ]
  },
  {
   "cell_type": "code",
   "execution_count": 2,
   "metadata": {
    "execution": {
     "iopub.execute_input": "2025-03-24T21:17:33.583281Z",
     "iopub.status.busy": "2025-03-24T21:17:33.582993Z",
     "iopub.status.idle": "2025-03-24T21:17:37.830674Z",
     "shell.execute_reply": "2025-03-24T21:17:37.830057Z"
    }
   },
   "outputs": [],
   "source": [
    "import itertools as it\n",
    "import os\n",
    "\n",
    "import numpy as np\n",
    "\n",
    "from pylib.auxlib._log_context_duration import log_context_duration\n",
    "from pylib.auxlib._make_reproducible import make_reproducible\n",
    "from pylib.synthgeom._VideoWriter import VideoWriter\n",
    "from pylib.synthgeom._generate_observations import generate_observations\n",
    "\n",
    "make_reproducible()\n"
   ]
  },
  {
   "cell_type": "code",
   "execution_count": 3,
   "metadata": {
    "execution": {
     "iopub.execute_input": "2025-03-24T21:17:37.832869Z",
     "iopub.status.busy": "2025-03-24T21:17:37.832642Z",
     "iopub.status.idle": "2025-03-24T21:17:37.844793Z",
     "shell.execute_reply": "2025-03-24T21:17:37.844133Z"
    }
   },
   "outputs": [
    {
     "name": "stdout",
     "output_type": "stream",
     "text": [
      "Last updated: 2025-03-24T21:17:37.833896+00:00\n",
      "\n",
      "Python implementation: CPython\n",
      "Python version       : 3.10.12\n",
      "IPython version      : 7.31.1\n",
      "\n",
      "Compiler    : GCC 11.4.0\n",
      "OS          : Linux\n",
      "Release     : 6.8.0-1021-azure\n",
      "Machine     : x86_64\n",
      "Processor   : x86_64\n",
      "CPU cores   : 4\n",
      "Architecture: 64bit\n",
      "\n",
      "numpy: 1.23.5\n",
      "\n",
      "Watermark: 2.4.3\n",
      "\n"
     ]
    }
   ],
   "source": [
    "%watermark -diwmuv -iv\n"
   ]
  },
  {
   "cell_type": "code",
   "execution_count": 4,
   "metadata": {
    "execution": {
     "iopub.execute_input": "2025-03-24T21:17:37.870537Z",
     "iopub.status.busy": "2025-03-24T21:17:37.870341Z",
     "iopub.status.idle": "2025-03-24T21:17:37.873066Z",
     "shell.execute_reply": "2025-03-24T21:17:37.872565Z"
    }
   },
   "outputs": [],
   "source": [
    "SX, SY = 400, 400\n",
    "crea_func = np.ones\n",
    "crea_size = 10\n"
   ]
  },
  {
   "cell_type": "code",
   "execution_count": 5,
   "metadata": {
    "execution": {
     "iopub.execute_input": "2025-03-24T21:17:37.875012Z",
     "iopub.status.busy": "2025-03-24T21:17:37.874532Z",
     "iopub.status.idle": "2025-03-24T21:17:37.877860Z",
     "shell.execute_reply": "2025-03-24T21:17:37.877390Z"
    }
   },
   "outputs": [],
   "source": [
    "image_counter = it.count()\n",
    "image_subdir = \"out/dev-synthgeom\"\n",
    "os.makedirs(image_subdir, exist_ok=True)\n",
    "\n",
    "\n",
    "def make_gif_path():\n",
    "    return f\"{image_subdir}/image_{next(image_counter):04d}.gif\"\n"
   ]
  },
  {
   "cell_type": "code",
   "execution_count": 6,
   "metadata": {
    "execution": {
     "iopub.execute_input": "2025-03-24T21:17:37.879602Z",
     "iopub.status.busy": "2025-03-24T21:17:37.879419Z",
     "iopub.status.idle": "2025-03-24T21:17:37.883234Z",
     "shell.execute_reply": "2025-03-24T21:17:37.882760Z"
    }
   },
   "outputs": [],
   "source": [
    "def show_sample_observations(\n",
    "    SX,\n",
    "    SY,\n",
    "    *,\n",
    "    crea_func,\n",
    "    crea_size=10,\n",
    "    fps=30.0,\n",
    "    logger=print,\n",
    "    mirror_backtrack=False,\n",
    "    num_frames=1000,\n",
    "):\n",
    "\n",
    "    observations = generate_observations(\n",
    "        SX=SX,\n",
    "        SY=SY,\n",
    "        crea_func=crea_func,\n",
    "        crea_size=crea_size,\n",
    "        mirror_backtrack=mirror_backtrack,\n",
    "        num_frames=num_frames,\n",
    "    )\n",
    "    with log_context_duration(\"Creating video\", logger=logger):\n",
    "        with VideoWriter(make_gif_path(), fps) as vid:\n",
    "            vid.add_observations(observations)\n",
    "            vid.show()\n"
   ]
  },
  {
   "cell_type": "code",
   "execution_count": 7,
   "metadata": {
    "execution": {
     "iopub.execute_input": "2025-03-24T21:17:37.884895Z",
     "iopub.status.busy": "2025-03-24T21:17:37.884713Z",
     "iopub.status.idle": "2025-03-24T21:18:00.255314Z",
     "shell.execute_reply": "2025-03-24T21:18:00.254645Z"
    }
   },
   "outputs": [
    {
     "name": "stdout",
     "output_type": "stream",
     "text": [
      "enter log_context_duration for Creating video\n"
     ]
    },
    {
     "name": "stderr",
     "output_type": "stream",
     "text": [
      "gifsicle: warning: trivial adaptive palette (only 2 colors in source)\n"
     ]
    },
    {
     "data": {
      "text/html": [
       "<img src=\"out/dev-synthgeom/image_0000.gif\"/>"
      ],
      "text/plain": [
       "<IPython.core.display.Image object>"
      ]
     },
     "metadata": {},
     "output_type": "display_data"
    },
    {
     "name": "stdout",
     "output_type": "stream",
     "text": [
      "exit log_context_duration for Creating video\n",
      "!!! {\"Creating video\": 22.280182600021362}\n"
     ]
    }
   ],
   "source": [
    "show_sample_observations(\n",
    "    SX,\n",
    "    SY,\n",
    "    crea_func=np.ones,\n",
    ")\n"
   ]
  },
  {
   "cell_type": "code",
   "execution_count": 8,
   "metadata": {
    "execution": {
     "iopub.execute_input": "2025-03-24T21:18:00.257403Z",
     "iopub.status.busy": "2025-03-24T21:18:00.256965Z",
     "iopub.status.idle": "2025-03-24T21:18:20.041000Z",
     "shell.execute_reply": "2025-03-24T21:18:20.040316Z"
    }
   },
   "outputs": [
    {
     "name": "stdout",
     "output_type": "stream",
     "text": [
      "enter log_context_duration for Creating video\n"
     ]
    },
    {
     "name": "stderr",
     "output_type": "stream",
     "text": [
      "gifsicle: warning: trivial adaptive palette (only 2 colors in source)\n"
     ]
    },
    {
     "data": {
      "text/html": [
       "<img src=\"out/dev-synthgeom/image_0001.gif\"/>"
      ],
      "text/plain": [
       "<IPython.core.display.Image object>"
      ]
     },
     "metadata": {},
     "output_type": "display_data"
    },
    {
     "name": "stdout",
     "output_type": "stream",
     "text": [
      "exit log_context_duration for Creating video\n",
      "!!! {\"Creating video\": 19.227637767791748}\n"
     ]
    }
   ],
   "source": [
    "show_sample_observations(\n",
    "    SX,\n",
    "    SY,\n",
    "    crea_func=np.ones,\n",
    "    mirror_backtrack=True,\n",
    ")\n"
   ]
  },
  {
   "cell_type": "code",
   "execution_count": 9,
   "metadata": {
    "execution": {
     "iopub.execute_input": "2025-03-24T21:18:20.043168Z",
     "iopub.status.busy": "2025-03-24T21:18:20.042969Z",
     "iopub.status.idle": "2025-03-24T21:19:07.360288Z",
     "shell.execute_reply": "2025-03-24T21:19:07.359679Z"
    }
   },
   "outputs": [
    {
     "name": "stdout",
     "output_type": "stream",
     "text": [
      "enter log_context_duration for Creating video\n"
     ]
    },
    {
     "name": "stderr",
     "output_type": "stream",
     "text": [
      "gifsicle: warning: trivial adaptive palette (only 224 colors in source)\n"
     ]
    },
    {
     "data": {
      "text/html": [
       "<img src=\"out/dev-synthgeom/image_0002.gif\"/>"
      ],
      "text/plain": [
       "<IPython.core.display.Image object>"
      ]
     },
     "metadata": {},
     "output_type": "display_data"
    },
    {
     "name": "stdout",
     "output_type": "stream",
     "text": [
      "exit log_context_duration for Creating video\n",
      "!!! {\"Creating video\": 23.61157536506653}\n",
      "enter log_context_duration for Creating video\n"
     ]
    },
    {
     "name": "stderr",
     "output_type": "stream",
     "text": [
      "gifsicle: warning: trivial adaptive palette (only 226 colors in source)\n"
     ]
    },
    {
     "data": {
      "text/html": [
       "<img src=\"out/dev-synthgeom/image_0003.gif\"/>"
      ],
      "text/plain": [
       "<IPython.core.display.Image object>"
      ]
     },
     "metadata": {},
     "output_type": "display_data"
    },
    {
     "name": "stdout",
     "output_type": "stream",
     "text": [
      "exit log_context_duration for Creating video\n",
      "!!! {\"Creating video\": 23.521716356277466}\n"
     ]
    }
   ],
   "source": [
    "for i in range(2):\n",
    "    show_sample_observations(\n",
    "        SX,\n",
    "        SY,\n",
    "        crea_func=lambda x: np.random.rand(*x),\n",
    "    )\n"
   ]
  },
  {
   "cell_type": "code",
   "execution_count": 10,
   "metadata": {
    "execution": {
     "iopub.execute_input": "2025-03-24T21:19:07.362406Z",
     "iopub.status.busy": "2025-03-24T21:19:07.361951Z",
     "iopub.status.idle": "2025-03-24T21:19:57.941958Z",
     "shell.execute_reply": "2025-03-24T21:19:57.941304Z"
    }
   },
   "outputs": [
    {
     "name": "stdout",
     "output_type": "stream",
     "text": [
      "enter log_context_duration for Creating video\n"
     ]
    },
    {
     "name": "stderr",
     "output_type": "stream",
     "text": [
      "gifsicle: warning: trivial adaptive palette (only 226 colors in source)\n"
     ]
    },
    {
     "data": {
      "text/html": [
       "<img src=\"out/dev-synthgeom/image_0004.gif\"/>"
      ],
      "text/plain": [
       "<IPython.core.display.Image object>"
      ]
     },
     "metadata": {},
     "output_type": "display_data"
    },
    {
     "name": "stdout",
     "output_type": "stream",
     "text": [
      "exit log_context_duration for Creating video\n",
      "!!! {\"Creating video\": 25.05942988395691}\n",
      "enter log_context_duration for Creating video\n"
     ]
    },
    {
     "name": "stderr",
     "output_type": "stream",
     "text": [
      "gifsicle: warning: trivial adaptive palette (only 224 colors in source)\n"
     ]
    },
    {
     "data": {
      "text/html": [
       "<img src=\"out/dev-synthgeom/image_0005.gif\"/>"
      ],
      "text/plain": [
       "<IPython.core.display.Image object>"
      ]
     },
     "metadata": {},
     "output_type": "display_data"
    },
    {
     "name": "stdout",
     "output_type": "stream",
     "text": [
      "exit log_context_duration for Creating video\n",
      "!!! {\"Creating video\": 25.117258071899414}\n"
     ]
    }
   ],
   "source": [
    "for i in range(2):\n",
    "    show_sample_observations(\n",
    "        SX,\n",
    "        SY,\n",
    "        crea_func=lambda x: np.random.rand(*x),\n",
    "        mirror_backtrack=True,\n",
    "    )\n"
   ]
  }
 ],
 "metadata": {
  "kernelspec": {
   "display_name": "env",
   "language": "python",
   "name": "python3"
  },
  "language_info": {
   "codemirror_mode": {
    "name": "ipython",
    "version": 3
   },
   "file_extension": ".py",
   "mimetype": "text/x-python",
   "name": "python",
   "nbconvert_exporter": "python",
   "pygments_lexer": "ipython3",
   "version": "3.10.12"
  }
 },
 "nbformat": 4,
 "nbformat_minor": 2
}
