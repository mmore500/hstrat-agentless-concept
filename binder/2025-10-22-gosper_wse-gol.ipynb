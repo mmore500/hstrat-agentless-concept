{
 "cells": [
  {
   "cell_type": "code",
   "execution_count": null,
   "metadata": {},
   "outputs": [],
   "source": [
    "%load_ext watermark\n"
   ]
  },
  {
   "cell_type": "code",
   "execution_count": null,
   "metadata": {},
   "outputs": [],
   "source": [
    "import os\n",
    "\n",
    "import alifedata_phyloinformatics_convert as apc\n",
    "import dendropy as dp\n",
    "from hstrat import _auxiliary_lib as hstrat_aux\n",
    "import iplotx as ipx\n",
    "from IPython.display import display\n",
    "from matplotlib.colors import to_hex\n",
    "from matplotlib.patches import ConnectionPatch\n",
    "from matplotlib import pyplot as plt\n",
    "import numpy as np\n",
    "import pandas as pd\n",
    "import polars as pl\n",
    "import seaborn as sns\n",
    "from teeplot import teeplot as tp\n",
    "\n",
    "import pylib  # noqa: F401\n"
   ]
  },
  {
   "cell_type": "code",
   "execution_count": null,
   "metadata": {},
   "outputs": [],
   "source": [
    "%watermark -diwmuv -iv\n"
   ]
  },
  {
   "cell_type": "code",
   "execution_count": null,
   "metadata": {},
   "outputs": [],
   "source": [
    "teeplot_subdir = os.environ.get(\"NOTEBOOK_NAME\", \"2025-10-22-gosper_wse-gol\")\n",
    "teeplot_subdir\n"
   ]
  },
  {
   "cell_type": "markdown",
   "metadata": {},
   "source": [
    "## Prep Data\n"
   ]
  },
  {
   "cell_type": "code",
   "execution_count": null,
   "metadata": {},
   "outputs": [],
   "source": [
    "df = pl.concat(\n",
    "    [\n",
    "        pl.read_parquet(\"https://osf.io/b7e8t/download\").with_columns(surf=0),\n",
    "        pl.read_parquet(\"https://osf.io/2k78y/download\").with_columns(surf=1),\n",
    "        pl.read_parquet(\"https://osf.io/6cmxa/download\").with_columns(surf=2),\n",
    "    ],\n",
    ").to_pandas()\n",
    "\n",
    "display(df.describe()), display(df.head()), display(df.tail());\n"
   ]
  },
  {
   "cell_type": "code",
   "execution_count": null,
   "metadata": {},
   "outputs": [],
   "source": [
    "df.columns\n"
   ]
  },
  {
   "cell_type": "code",
   "execution_count": null,
   "metadata": {},
   "outputs": [],
   "source": [
    "df = pd.concat(\n",
    "    [hstrat_aux.alifestd_mark_root_id(dfs) for _, dfs in df.groupby(\"surf\")],\n",
    "    ignore_index=True,\n",
    ")\n",
    "df[\"taxon_label\"] = df[\"id\"]\n"
   ]
  },
  {
   "cell_type": "markdown",
   "metadata": {},
   "source": [
    "## Example Plot\n"
   ]
  },
  {
   "cell_type": "code",
   "execution_count": null,
   "metadata": {},
   "outputs": [],
   "source": [
    "trees_0 = apc.alife_dataframe_to_dendropy_trees(\n",
    "    hstrat_aux.alifestd_try_add_ancestor_list_col(df[df[\"surf\"] == 0]),\n",
    "    setup_edge_lengths=True,\n",
    ")\n",
    "trees_0\n"
   ]
  },
  {
   "cell_type": "code",
   "execution_count": null,
   "metadata": {},
   "outputs": [],
   "source": [
    "trees_1 = apc.alife_dataframe_to_dendropy_trees(\n",
    "    hstrat_aux.alifestd_try_add_ancestor_list_col(df[df[\"surf\"] == 1]),\n",
    "    setup_edge_lengths=True,\n",
    ")\n",
    "trees_1\n"
   ]
  },
  {
   "cell_type": "code",
   "execution_count": null,
   "metadata": {},
   "outputs": [],
   "source": [
    "trees_2 = apc.alife_dataframe_to_dendropy_trees(\n",
    "    hstrat_aux.alifestd_try_add_ancestor_list_col(df[df[\"surf\"] == 2]),\n",
    "    setup_edge_lengths=True,\n",
    ")\n",
    "trees_2\n"
   ]
  },
  {
   "cell_type": "code",
   "execution_count": null,
   "metadata": {},
   "outputs": [],
   "source": [
    "grid_dim = int(df[df[\"gol_state\"] >= 0][[\"row\", \"col\"]].to_numpy().max()) + 1\n",
    "grid_dim\n"
   ]
  },
  {
   "cell_type": "code",
   "execution_count": null,
   "metadata": {},
   "outputs": [],
   "source": [
    "for i, target in enumerate([trees_0, trees_1, trees_2]):\n",
    "    with tp.teed(\n",
    "        plt.subplots,\n",
    "        2,\n",
    "        2,\n",
    "        figsize=(10, 10),\n",
    "        gridspec_kw={\n",
    "            'width_ratios': [0.2, 0.8],\n",
    "            'height_ratios': [0.2, 0.8],\n",
    "            'wspace': 0.05,\n",
    "            'hspace': 0.05,\n",
    "        },\n",
    "        teeplot_outattrs=dict(surf=i),\n",
    "        teeplot_subdir=teeplot_subdir,\n",
    "    ) as teed:\n",
    "        fig, ((ax_corner, ax_top), (ax_left, ax_grid)) = teed\n",
    "\n",
    "        grid = np.full((grid_dim, grid_dim), np.nan)\n",
    "        for _, row in df[(df[\"surf\"] == i) & (df[\"gol_state\"] >= 0)].iterrows():\n",
    "            grid[int(row[\"row\"]), int(row[\"col\"])] = row[\"root_id\"]\n",
    "\n",
    "        ax_corner.axis('off')\n",
    "\n",
    "        cmap = sns.color_palette([\"Dark2\", \"Set1\", \"tab10_r\"][i], len(target))\n",
    "\n",
    "        tree_top = ipx.plotting.tree(\n",
    "            target[0],\n",
    "            ax=ax_top,\n",
    "            layout=\"vertical\",\n",
    "            edge_color=to_hex(cmap[0]),\n",
    "            edge_linewidth=1.5,\n",
    "            margins=0.0,\n",
    "        )\n",
    "        ax_top.margins(x=-0.04)\n",
    "        ax_top.set_xlim(ax_top.get_xlim()[0] - 10, None)\n",
    "\n",
    "        tree_left = ipx.plotting.tree(\n",
    "            target[1],\n",
    "            ax=ax_left,\n",
    "            edge_color=to_hex(cmap[1]),\n",
    "            edge_linewidth=1.5,\n",
    "            margins=0.0,\n",
    "        )\n",
    "        ax_left.invert_yaxis()\n",
    "        ax_left.margins(y=-0.05)\n",
    "\n",
    "        sns.heatmap(\n",
    "            grid,\n",
    "            ax=ax_grid,\n",
    "            cmap=cmap,\n",
    "            vmin=0,\n",
    "            vmax=len(target) - 1,\n",
    "            cbar=False,\n",
    "        )\n",
    "        ax_grid.set_axis_off()\n",
    "\n",
    "        dfi = df[df[\"surf\"] == i].copy()\n",
    "        dfi = hstrat_aux.alifestd_mark_leaves(dfi, mutate=True)\n",
    "\n",
    "        for idx, row in dfi[dfi[\"is_leaf\"]].iterrows():\n",
    "            axis = [ax_top, ax_left, None, None][row[\"root_id\"]]\n",
    "            tree = [tree_top, tree_left, None, None][row[\"root_id\"]]\n",
    "            if axis is None:\n",
    "                continue\n",
    "            tree_x, tree_y = next(\n",
    "                v for n, v in tree.get_layout().T.items()\n",
    "                if n.taxon is not None and n.taxon.label == row[\"id\"]\n",
    "            )\n",
    "            grid_x, grid_y = row[\"col\"], row[\"row\"]\n",
    "\n",
    "            # draw line between axes from (tree_x, tree_y) to (grid_x, grid_y)\n",
    "            con = ConnectionPatch(\n",
    "                xyA=(tree_x, tree_y),\n",
    "                xyB=(grid_x, grid_y),\n",
    "                coordsA=axis.transData,\n",
    "                coordsB=ax_grid.transData,\n",
    "                color=\"gray\",\n",
    "                linestyle=\"--\",\n",
    "                alpha=0.5,\n",
    "                linewidth=0.5,\n",
    "                clip_on=False,\n",
    "            )\n",
    "            fig.add_artist(con)\n"
   ]
  }
 ],
 "metadata": {
  "kernelspec": {
   "display_name": ".env",
   "language": "python",
   "name": "python3"
  },
  "language_info": {
   "codemirror_mode": {
    "name": "ipython",
    "version": 3
   },
   "file_extension": ".py",
   "mimetype": "text/x-python",
   "name": "python",
   "nbconvert_exporter": "python",
   "pygments_lexer": "ipython3"
  }
 },
 "nbformat": 4,
 "nbformat_minor": 2
}
