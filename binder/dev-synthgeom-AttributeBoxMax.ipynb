{
 "cells": [
  {
   "cell_type": "code",
   "execution_count": null,
   "metadata": {},
   "outputs": [],
   "source": [
    "%load_ext watermark\n"
   ]
  },
  {
   "cell_type": "code",
   "execution_count": null,
   "metadata": {},
   "outputs": [],
   "source": [
    "from matplotlib import pyplot as plt\n",
    "import numpy as np\n",
    "from tqdm import tqdm\n",
    "\n",
    "from pylib._build_path import build_path\n",
    "from pylib._make_seed_coordinates import make_seed_coordinates\n",
    "from pylib._pathsplot import pathsplot\n",
    "from pylib.auxlib._log_context_duration import log_context_duration\n",
    "from pylib.auxlib._make_reproducible import make_reproducible\n",
    "from pylib.synthgeom._AttributeBoxMax import AttributeBoxMax\n",
    "from pylib.synthgeom._VideoWriter import VideoWriter\n",
    "from pylib.synthgeom._generate_observations import generate_observations\n",
    "\n",
    "make_reproducible()\n"
   ]
  },
  {
   "cell_type": "code",
   "execution_count": null,
   "metadata": {},
   "outputs": [],
   "source": [
    "%watermark -diwmuv -iv\n"
   ]
  },
  {
   "cell_type": "code",
   "execution_count": null,
   "metadata": {},
   "outputs": [],
   "source": [
    "SX, SY = 400, 400\n",
    "crea_func = np.ones\n",
    "crea_size = 10\n"
   ]
  },
  {
   "cell_type": "code",
   "execution_count": null,
   "metadata": {},
   "outputs": [],
   "source": [
    "def show_sample_observations(\n",
    "    SX,\n",
    "    SY,\n",
    "    *,\n",
    "    crea_func,\n",
    "    crea_size=10,\n",
    "    every_nth=5,\n",
    "    fps=30.0,\n",
    "    logger=print,\n",
    "    num_frames=1000,\n",
    "):\n",
    "\n",
    "    observations = generate_observations(\n",
    "        SX=SX,\n",
    "        SY=SY,\n",
    "        crea_func=crea_func,\n",
    "        crea_size=crea_size,\n",
    "        num_frames=num_frames,\n",
    "    )\n",
    "    with log_context_duration(\"Creating video\", logger=logger):\n",
    "        with VideoWriter(\"out.gif\", fps) as vid:\n",
    "            vid.add_observations(observations, every_nth=every_nth)\n",
    "            vid.show()\n",
    "\n",
    "    with log_context_duration(\"Creating reversed video\", logger=logger):\n",
    "        with VideoWriter(\"out.gif\", fps) as vid:\n",
    "            vid.add_observations(\n",
    "                observations, every_nth=every_nth, reorder=reversed\n",
    "            )\n",
    "            vid.show()\n",
    "\n",
    "    return observations\n"
   ]
  },
  {
   "cell_type": "code",
   "execution_count": null,
   "metadata": {},
   "outputs": [],
   "source": [
    "seed_coordinates = make_seed_coordinates(\n",
    "    x_coords=range(SX // 8, SX, SX // 4),\n",
    "    y_coords=range(SY // 8, SY, SY // 4),\n",
    ")\n"
   ]
  },
  {
   "cell_type": "code",
   "execution_count": null,
   "metadata": {},
   "outputs": [],
   "source": [
    "obvs = show_sample_observations(\n",
    "    SX,\n",
    "    SY,\n",
    "    crea_func=np.ones,\n",
    ")\n",
    "observations = pathsplot(\n",
    "    [\n",
    "        build_path(coordinate, obvs, AttributeBoxMax(20))\n",
    "        for coordinate in tqdm(seed_coordinates)\n",
    "    ],\n",
    "    xmax=SX,\n",
    "    ymax=SY,\n",
    "    col_wrap=4,\n",
    ")\n",
    "plt.show()\n"
   ]
  },
  {
   "cell_type": "code",
   "execution_count": null,
   "metadata": {},
   "outputs": [],
   "source": [
    "for i in range(2):\n",
    "    obvs = show_sample_observations(\n",
    "        SX,\n",
    "        SY,\n",
    "        crea_func=lambda x: np.random.rand(*x),\n",
    "    )\n",
    "    observations = pathsplot(\n",
    "        [\n",
    "            build_path(coordinate, obvs, AttributeBoxMax(20))\n",
    "            for coordinate in tqdm(seed_coordinates)\n",
    "        ],\n",
    "        xmax=SX,\n",
    "        ymax=SY,\n",
    "        col_wrap=4,\n",
    "    )\n",
    "    plt.show()\n"
   ]
  }
 ],
 "metadata": {
  "kernelspec": {
   "display_name": "env",
   "language": "python",
   "name": "python3"
  },
  "language_info": {
   "codemirror_mode": {
    "name": "ipython",
    "version": 3
   },
   "file_extension": ".py",
   "mimetype": "text/x-python",
   "name": "python",
   "nbconvert_exporter": "python",
   "pygments_lexer": "ipython3"
  }
 },
 "nbformat": 4,
 "nbformat_minor": 2
}
